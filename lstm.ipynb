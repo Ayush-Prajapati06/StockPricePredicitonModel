{
 "cells": [
  {
   "cell_type": "code",
   "execution_count": 1,
   "metadata": {
    "id": "aOaTuu23m6Hm"
   },
   "outputs": [],
   "source": [
    "import yfinance as yf\n",
    "import numpy as np\n",
    "import pandas as pd\n",
    "import matplotlib.pyplot as plt\n"
   ]
  },
  {
   "cell_type": "code",
   "execution_count": 2,
   "metadata": {
    "colab": {
     "base_uri": "https://localhost:8080/",
     "height": 255
    },
    "id": "_fzZNlSeoSXk",
    "outputId": "b708bbc1-688f-49f4-c082-f95a22054eaa"
   },
   "outputs": [
    {
     "name": "stderr",
     "output_type": "stream",
     "text": [
      "[*********************100%%**********************]  1 of 1 completed\n"
     ]
    },
    {
     "data": {
      "text/html": [
       "<div>\n",
       "<style scoped>\n",
       "    .dataframe tbody tr th:only-of-type {\n",
       "        vertical-align: middle;\n",
       "    }\n",
       "\n",
       "    .dataframe tbody tr th {\n",
       "        vertical-align: top;\n",
       "    }\n",
       "\n",
       "    .dataframe thead th {\n",
       "        text-align: right;\n",
       "    }\n",
       "</style>\n",
       "<table border=\"1\" class=\"dataframe\">\n",
       "  <thead>\n",
       "    <tr style=\"text-align: right;\">\n",
       "      <th></th>\n",
       "      <th>Open</th>\n",
       "      <th>High</th>\n",
       "      <th>Low</th>\n",
       "      <th>Close</th>\n",
       "      <th>Adj Close</th>\n",
       "      <th>Volume</th>\n",
       "    </tr>\n",
       "    <tr>\n",
       "      <th>Date</th>\n",
       "      <th></th>\n",
       "      <th></th>\n",
       "      <th></th>\n",
       "      <th></th>\n",
       "      <th></th>\n",
       "      <th></th>\n",
       "    </tr>\n",
       "  </thead>\n",
       "  <tbody>\n",
       "    <tr>\n",
       "      <th>2019-03-28</th>\n",
       "      <td>37.240002</td>\n",
       "      <td>37.240002</td>\n",
       "      <td>37.240002</td>\n",
       "      <td>37.240002</td>\n",
       "      <td>33.969009</td>\n",
       "      <td>0</td>\n",
       "    </tr>\n",
       "    <tr>\n",
       "      <th>2019-03-29</th>\n",
       "      <td>37.770000</td>\n",
       "      <td>37.770000</td>\n",
       "      <td>37.770000</td>\n",
       "      <td>37.770000</td>\n",
       "      <td>34.452450</td>\n",
       "      <td>300</td>\n",
       "    </tr>\n",
       "    <tr>\n",
       "      <th>2019-04-01</th>\n",
       "      <td>37.770000</td>\n",
       "      <td>37.770000</td>\n",
       "      <td>37.770000</td>\n",
       "      <td>37.770000</td>\n",
       "      <td>34.452450</td>\n",
       "      <td>100</td>\n",
       "    </tr>\n",
       "    <tr>\n",
       "      <th>2019-04-02</th>\n",
       "      <td>38.500000</td>\n",
       "      <td>38.570000</td>\n",
       "      <td>38.500000</td>\n",
       "      <td>38.500000</td>\n",
       "      <td>35.118336</td>\n",
       "      <td>1000</td>\n",
       "    </tr>\n",
       "    <tr>\n",
       "      <th>2019-04-03</th>\n",
       "      <td>38.500000</td>\n",
       "      <td>38.500000</td>\n",
       "      <td>38.500000</td>\n",
       "      <td>38.500000</td>\n",
       "      <td>35.118336</td>\n",
       "      <td>0</td>\n",
       "    </tr>\n",
       "  </tbody>\n",
       "</table>\n",
       "</div>"
      ],
      "text/plain": [
       "                 Open       High        Low      Close  Adj Close  Volume\n",
       "Date                                                                     \n",
       "2019-03-28  37.240002  37.240002  37.240002  37.240002  33.969009       0\n",
       "2019-03-29  37.770000  37.770000  37.770000  37.770000  34.452450     300\n",
       "2019-04-01  37.770000  37.770000  37.770000  37.770000  34.452450     100\n",
       "2019-04-02  38.500000  38.570000  38.500000  38.500000  35.118336    1000\n",
       "2019-04-03  38.500000  38.500000  38.500000  38.500000  35.118336       0"
      ]
     },
     "execution_count": 2,
     "metadata": {},
     "output_type": "execute_result"
    }
   ],
   "source": [
    "\n",
    "df = yf.download('NFTY', period='5y', interval='1d')\n",
    "df.head()"
   ]
  },
  {
   "cell_type": "code",
   "execution_count": 3,
   "metadata": {
    "colab": {
     "base_uri": "https://localhost:8080/",
     "height": 238
    },
    "id": "GDPDo0Kdqw3o",
    "outputId": "ae03df12-d26c-4088-ce9b-30221f2cd438"
   },
   "outputs": [
    {
     "data": {
      "text/html": [
       "<div>\n",
       "<style scoped>\n",
       "    .dataframe tbody tr th:only-of-type {\n",
       "        vertical-align: middle;\n",
       "    }\n",
       "\n",
       "    .dataframe tbody tr th {\n",
       "        vertical-align: top;\n",
       "    }\n",
       "\n",
       "    .dataframe thead th {\n",
       "        text-align: right;\n",
       "    }\n",
       "</style>\n",
       "<table border=\"1\" class=\"dataframe\">\n",
       "  <thead>\n",
       "    <tr style=\"text-align: right;\">\n",
       "      <th></th>\n",
       "      <th>Open</th>\n",
       "      <th>High</th>\n",
       "      <th>Low</th>\n",
       "      <th>Close</th>\n",
       "      <th>Adj Close</th>\n",
       "      <th>Volume</th>\n",
       "    </tr>\n",
       "    <tr>\n",
       "      <th>Date</th>\n",
       "      <th></th>\n",
       "      <th></th>\n",
       "      <th></th>\n",
       "      <th></th>\n",
       "      <th></th>\n",
       "      <th></th>\n",
       "    </tr>\n",
       "  </thead>\n",
       "  <tbody>\n",
       "    <tr>\n",
       "      <th>2024-03-21</th>\n",
       "      <td>56.139999</td>\n",
       "      <td>56.180000</td>\n",
       "      <td>55.900002</td>\n",
       "      <td>55.900002</td>\n",
       "      <td>55.900002</td>\n",
       "      <td>24300</td>\n",
       "    </tr>\n",
       "    <tr>\n",
       "      <th>2024-03-22</th>\n",
       "      <td>55.990002</td>\n",
       "      <td>56.290001</td>\n",
       "      <td>55.930000</td>\n",
       "      <td>55.980000</td>\n",
       "      <td>55.980000</td>\n",
       "      <td>15600</td>\n",
       "    </tr>\n",
       "    <tr>\n",
       "      <th>2024-03-25</th>\n",
       "      <td>56.180000</td>\n",
       "      <td>56.180000</td>\n",
       "      <td>55.930000</td>\n",
       "      <td>55.950001</td>\n",
       "      <td>55.950001</td>\n",
       "      <td>17700</td>\n",
       "    </tr>\n",
       "    <tr>\n",
       "      <th>2024-03-26</th>\n",
       "      <td>56.299999</td>\n",
       "      <td>56.360001</td>\n",
       "      <td>56.000000</td>\n",
       "      <td>56.000000</td>\n",
       "      <td>56.000000</td>\n",
       "      <td>14500</td>\n",
       "    </tr>\n",
       "    <tr>\n",
       "      <th>2024-03-27</th>\n",
       "      <td>56.209999</td>\n",
       "      <td>56.320000</td>\n",
       "      <td>55.919998</td>\n",
       "      <td>55.919998</td>\n",
       "      <td>55.919998</td>\n",
       "      <td>31100</td>\n",
       "    </tr>\n",
       "  </tbody>\n",
       "</table>\n",
       "</div>"
      ],
      "text/plain": [
       "                 Open       High        Low      Close  Adj Close  Volume\n",
       "Date                                                                     \n",
       "2024-03-21  56.139999  56.180000  55.900002  55.900002  55.900002   24300\n",
       "2024-03-22  55.990002  56.290001  55.930000  55.980000  55.980000   15600\n",
       "2024-03-25  56.180000  56.180000  55.930000  55.950001  55.950001   17700\n",
       "2024-03-26  56.299999  56.360001  56.000000  56.000000  56.000000   14500\n",
       "2024-03-27  56.209999  56.320000  55.919998  55.919998  55.919998   31100"
      ]
     },
     "execution_count": 3,
     "metadata": {},
     "output_type": "execute_result"
    }
   ],
   "source": [
    "df.tail()"
   ]
  },
  {
   "cell_type": "code",
   "execution_count": 4,
   "metadata": {
    "colab": {
     "base_uri": "https://localhost:8080/",
     "height": 206
    },
    "id": "NIfxajBiq4Bo",
    "outputId": "11b6336a-d3f7-4225-98cd-fd293f1617c2"
   },
   "outputs": [
    {
     "data": {
      "text/html": [
       "<div>\n",
       "<style scoped>\n",
       "    .dataframe tbody tr th:only-of-type {\n",
       "        vertical-align: middle;\n",
       "    }\n",
       "\n",
       "    .dataframe tbody tr th {\n",
       "        vertical-align: top;\n",
       "    }\n",
       "\n",
       "    .dataframe thead th {\n",
       "        text-align: right;\n",
       "    }\n",
       "</style>\n",
       "<table border=\"1\" class=\"dataframe\">\n",
       "  <thead>\n",
       "    <tr style=\"text-align: right;\">\n",
       "      <th></th>\n",
       "      <th>Date</th>\n",
       "      <th>Open</th>\n",
       "      <th>High</th>\n",
       "      <th>Low</th>\n",
       "      <th>Close</th>\n",
       "      <th>Adj Close</th>\n",
       "      <th>Volume</th>\n",
       "    </tr>\n",
       "  </thead>\n",
       "  <tbody>\n",
       "    <tr>\n",
       "      <th>0</th>\n",
       "      <td>2019-03-28</td>\n",
       "      <td>37.240002</td>\n",
       "      <td>37.240002</td>\n",
       "      <td>37.240002</td>\n",
       "      <td>37.240002</td>\n",
       "      <td>33.969009</td>\n",
       "      <td>0</td>\n",
       "    </tr>\n",
       "    <tr>\n",
       "      <th>1</th>\n",
       "      <td>2019-03-29</td>\n",
       "      <td>37.770000</td>\n",
       "      <td>37.770000</td>\n",
       "      <td>37.770000</td>\n",
       "      <td>37.770000</td>\n",
       "      <td>34.452450</td>\n",
       "      <td>300</td>\n",
       "    </tr>\n",
       "    <tr>\n",
       "      <th>2</th>\n",
       "      <td>2019-04-01</td>\n",
       "      <td>37.770000</td>\n",
       "      <td>37.770000</td>\n",
       "      <td>37.770000</td>\n",
       "      <td>37.770000</td>\n",
       "      <td>34.452450</td>\n",
       "      <td>100</td>\n",
       "    </tr>\n",
       "    <tr>\n",
       "      <th>3</th>\n",
       "      <td>2019-04-02</td>\n",
       "      <td>38.500000</td>\n",
       "      <td>38.570000</td>\n",
       "      <td>38.500000</td>\n",
       "      <td>38.500000</td>\n",
       "      <td>35.118336</td>\n",
       "      <td>1000</td>\n",
       "    </tr>\n",
       "    <tr>\n",
       "      <th>4</th>\n",
       "      <td>2019-04-03</td>\n",
       "      <td>38.500000</td>\n",
       "      <td>38.500000</td>\n",
       "      <td>38.500000</td>\n",
       "      <td>38.500000</td>\n",
       "      <td>35.118336</td>\n",
       "      <td>0</td>\n",
       "    </tr>\n",
       "  </tbody>\n",
       "</table>\n",
       "</div>"
      ],
      "text/plain": [
       "        Date       Open       High        Low      Close  Adj Close  Volume\n",
       "0 2019-03-28  37.240002  37.240002  37.240002  37.240002  33.969009       0\n",
       "1 2019-03-29  37.770000  37.770000  37.770000  37.770000  34.452450     300\n",
       "2 2019-04-01  37.770000  37.770000  37.770000  37.770000  34.452450     100\n",
       "3 2019-04-02  38.500000  38.570000  38.500000  38.500000  35.118336    1000\n",
       "4 2019-04-03  38.500000  38.500000  38.500000  38.500000  35.118336       0"
      ]
     },
     "execution_count": 4,
     "metadata": {},
     "output_type": "execute_result"
    }
   ],
   "source": [
    "df = df.reset_index()\n",
    "df.head()"
   ]
  },
  {
   "cell_type": "code",
   "execution_count": 5,
   "metadata": {
    "colab": {
     "base_uri": "https://localhost:8080/",
     "height": 206
    },
    "id": "AsR2uX8WrGQl",
    "outputId": "c616d341-3965-4bf1-b2a3-6c455ccb3c6d"
   },
   "outputs": [
    {
     "data": {
      "text/html": [
       "<div>\n",
       "<style scoped>\n",
       "    .dataframe tbody tr th:only-of-type {\n",
       "        vertical-align: middle;\n",
       "    }\n",
       "\n",
       "    .dataframe tbody tr th {\n",
       "        vertical-align: top;\n",
       "    }\n",
       "\n",
       "    .dataframe thead th {\n",
       "        text-align: right;\n",
       "    }\n",
       "</style>\n",
       "<table border=\"1\" class=\"dataframe\">\n",
       "  <thead>\n",
       "    <tr style=\"text-align: right;\">\n",
       "      <th></th>\n",
       "      <th>Open</th>\n",
       "      <th>High</th>\n",
       "      <th>Low</th>\n",
       "      <th>Close</th>\n",
       "      <th>Volume</th>\n",
       "    </tr>\n",
       "  </thead>\n",
       "  <tbody>\n",
       "    <tr>\n",
       "      <th>0</th>\n",
       "      <td>37.240002</td>\n",
       "      <td>37.240002</td>\n",
       "      <td>37.240002</td>\n",
       "      <td>37.240002</td>\n",
       "      <td>0</td>\n",
       "    </tr>\n",
       "    <tr>\n",
       "      <th>1</th>\n",
       "      <td>37.770000</td>\n",
       "      <td>37.770000</td>\n",
       "      <td>37.770000</td>\n",
       "      <td>37.770000</td>\n",
       "      <td>300</td>\n",
       "    </tr>\n",
       "    <tr>\n",
       "      <th>2</th>\n",
       "      <td>37.770000</td>\n",
       "      <td>37.770000</td>\n",
       "      <td>37.770000</td>\n",
       "      <td>37.770000</td>\n",
       "      <td>100</td>\n",
       "    </tr>\n",
       "    <tr>\n",
       "      <th>3</th>\n",
       "      <td>38.500000</td>\n",
       "      <td>38.570000</td>\n",
       "      <td>38.500000</td>\n",
       "      <td>38.500000</td>\n",
       "      <td>1000</td>\n",
       "    </tr>\n",
       "    <tr>\n",
       "      <th>4</th>\n",
       "      <td>38.500000</td>\n",
       "      <td>38.500000</td>\n",
       "      <td>38.500000</td>\n",
       "      <td>38.500000</td>\n",
       "      <td>0</td>\n",
       "    </tr>\n",
       "  </tbody>\n",
       "</table>\n",
       "</div>"
      ],
      "text/plain": [
       "        Open       High        Low      Close  Volume\n",
       "0  37.240002  37.240002  37.240002  37.240002       0\n",
       "1  37.770000  37.770000  37.770000  37.770000     300\n",
       "2  37.770000  37.770000  37.770000  37.770000     100\n",
       "3  38.500000  38.570000  38.500000  38.500000    1000\n",
       "4  38.500000  38.500000  38.500000  38.500000       0"
      ]
     },
     "execution_count": 5,
     "metadata": {},
     "output_type": "execute_result"
    }
   ],
   "source": [
    "df = df.drop(['Date','Adj Close'],axis = 1)\n",
    "df.head()"
   ]
  },
  {
   "cell_type": "code",
   "execution_count": 6,
   "metadata": {
    "colab": {
     "base_uri": "https://localhost:8080/",
     "height": 447
    },
    "id": "9DfibJdUrgj2",
    "outputId": "3c268bf6-d563-425e-e609-cec876339194"
   },
   "outputs": [
    {
     "data": {
      "text/plain": [
       "[<matplotlib.lines.Line2D at 0x17819d65670>]"
      ]
     },
     "execution_count": 6,
     "metadata": {},
     "output_type": "execute_result"
    },
    {
     "data": {
      "image/png": "[encoded data removed]",
      "text/plain": [
       "<Figure size 640x480 with 1 Axes>"
      ]
     },
     "metadata": {},
     "output_type": "display_data"
    }
   ],
   "source": [
    "plt.plot(df.Close)"
   ]
  },
  {
   "cell_type": "code",
   "execution_count": 7,
   "metadata": {
    "colab": {
     "base_uri": "https://localhost:8080/"
    },
    "id": "AIpZ2ghasJSH",
    "outputId": "a171d785-6e83-4336-de59-99116498f9b8"
   },
   "outputs": [
    {
     "data": {
      "text/plain": [
       "0           NaN\n",
       "1           NaN\n",
       "2           NaN\n",
       "3           NaN\n",
       "4           NaN\n",
       "         ...   \n",
       "1254    53.5157\n",
       "1255    53.6060\n",
       "1256    53.6901\n",
       "1257    53.7773\n",
       "1258    53.8626\n",
       "Name: Close, Length: 1259, dtype: float64"
      ]
     },
     "execution_count": 7,
     "metadata": {},
     "output_type": "execute_result"
    }
   ],
   "source": [
    "ma100 = df.Close.rolling(100).mean()\n",
    "ma100"
   ]
  },
  {
   "cell_type": "code",
   "execution_count": 8,
   "metadata": {
    "colab": {
     "base_uri": "https://localhost:8080/",
     "height": 539
    },
    "id": "XmwGcCkfujRf",
    "outputId": "e2a3d0fd-3437-4611-bf7c-7d439964aad6"
   },
   "outputs": [
    {
     "data": {
      "text/plain": [
       "[<matplotlib.lines.Line2D at 0x1781a1ce210>]"
      ]
     },
     "execution_count": 8,
     "metadata": {},
     "output_type": "execute_result"
    },
    {
     "data": {
      "image/png": "[encoded data removed]",
      "text/plain": [
       "<Figure size 1200x600 with 1 Axes>"
      ]
     },
     "metadata": {},
     "output_type": "display_data"
    }
   ],
   "source": [
    "plt.figure(figsize = (12,6))\n",
    "plt.plot(df.Close)\n",
    "plt.plot(ma100, 'r')"
   ]
  },
  {
   "cell_type": "code",
   "execution_count": 9,
   "metadata": {
    "colab": {
     "base_uri": "https://localhost:8080/"
    },
    "id": "KoeomBtru6rH",
    "outputId": "745a7b13-08a1-4acc-f853-5a716e061b07"
   },
   "outputs": [
    {
     "data": {
      "text/plain": [
       "0           NaN\n",
       "1           NaN\n",
       "2           NaN\n",
       "3           NaN\n",
       "4           NaN\n",
       "         ...   \n",
       "1254    53.5157\n",
       "1255    53.6060\n",
       "1256    53.6901\n",
       "1257    53.7773\n",
       "1258    53.8626\n",
       "Name: Close, Length: 1259, dtype: float64"
      ]
     },
     "execution_count": 9,
     "metadata": {},
     "output_type": "execute_result"
    }
   ],
   "source": [
    "ma100 = df.Close.rolling(100).mean()\n",
    "ma100"
   ]
  },
  {
   "cell_type": "code",
   "execution_count": 10,
   "metadata": {
    "colab": {
     "base_uri": "https://localhost:8080/"
    },
    "id": "x0l28z1Ev9R9",
    "outputId": "bd86324e-672e-42c4-e5bd-8014ff8ef623"
   },
   "outputs": [
    {
     "data": {
      "text/plain": [
       "0            NaN\n",
       "1            NaN\n",
       "2            NaN\n",
       "3            NaN\n",
       "4            NaN\n",
       "          ...   \n",
       "1254    50.68050\n",
       "1255    50.73190\n",
       "1256    50.78205\n",
       "1257    50.83180\n",
       "1258    50.88360\n",
       "Name: Close, Length: 1259, dtype: float64"
      ]
     },
     "execution_count": 10,
     "metadata": {},
     "output_type": "execute_result"
    }
   ],
   "source": [
    "ma200 = df.Close.rolling(200).mean()\n",
    "ma200"
   ]
  },
  {
   "cell_type": "code",
   "execution_count": 11,
   "metadata": {
    "colab": {
     "base_uri": "https://localhost:8080/",
     "height": 539
    },
    "id": "LkK_m_3gvB9P",
    "outputId": "1bcf16af-0ba0-4a7c-bb04-8369429be97b"
   },
   "outputs": [
    {
     "data": {
      "text/plain": [
       "[<matplotlib.lines.Line2D at 0x1781a24e570>]"
      ]
     },
     "execution_count": 11,
     "metadata": {},
     "output_type": "execute_result"
    },
    {
     "data": {
      "image/png": "[encoded data removed]",
      "text/plain": [
       "<Figure size 1200x600 with 1 Axes>"
      ]
     },
     "metadata": {},
     "output_type": "display_data"
    }
   ],
   "source": [
    "plt.figure(figsize = (12,6))\n",
    "plt.plot(df.Close)\n",
    "plt.plot(ma100, 'r')\n",
    "plt.plot(ma200, 'g')"
   ]
  },
  {
   "cell_type": "code",
   "execution_count": 12,
   "metadata": {
    "colab": {
     "base_uri": "https://localhost:8080/"
    },
    "id": "1ZL53thPwLI0",
    "outputId": "9cbb035c-5089-4c32-9959-e21a51aac1a3"
   },
   "outputs": [
    {
     "data": {
      "text/plain": [
       "(1259, 5)"
      ]
     },
     "execution_count": 12,
     "metadata": {},
     "output_type": "execute_result"
    }
   ],
   "source": [
    "df.shape"
   ]
  },
  {
   "cell_type": "code",
   "execution_count": 13,
   "metadata": {
    "colab": {
     "base_uri": "https://localhost:8080/"
    },
    "id": "6tdDFZGmwTwD",
    "outputId": "e309bcbb-be64-418f-86b6-06d15bee252c"
   },
   "outputs": [
    {
     "name": "stdout",
     "output_type": "stream",
     "text": [
      "(1007, 1)\n",
      "(252, 1)\n"
     ]
    }
   ],
   "source": [
    "#splitting data into train and test\n",
    "\n",
    "data_training = pd.DataFrame(df['Close'][0:int(len(df)*0.80)])\n",
    "data_testing = pd.DataFrame(df['Close'][int(len(df)*0.80): int(len(df))])\n",
    "\n",
    "print(data_training.shape)\n",
    "print(data_testing.shape)\n"
   ]
  },
  {
   "cell_type": "code",
   "execution_count": 14,
   "metadata": {
    "colab": {
     "base_uri": "https://localhost:8080/",
     "height": 206
    },
    "id": "v_WNUEd6xb68",
    "outputId": "2f15170b-158a-41b8-ddb6-28a29264b9ab"
   },
   "outputs": [
    {
     "data": {
      "text/html": [
       "<div>\n",
       "<style scoped>\n",
       "    .dataframe tbody tr th:only-of-type {\n",
       "        vertical-align: middle;\n",
       "    }\n",
       "\n",
       "    .dataframe tbody tr th {\n",
       "        vertical-align: top;\n",
       "    }\n",
       "\n",
       "    .dataframe thead th {\n",
       "        text-align: right;\n",
       "    }\n",
       "</style>\n",
       "<table border=\"1\" class=\"dataframe\">\n",
       "  <thead>\n",
       "    <tr style=\"text-align: right;\">\n",
       "      <th></th>\n",
       "      <th>Close</th>\n",
       "    </tr>\n",
       "  </thead>\n",
       "  <tbody>\n",
       "    <tr>\n",
       "      <th>0</th>\n",
       "      <td>37.240002</td>\n",
       "    </tr>\n",
       "    <tr>\n",
       "      <th>1</th>\n",
       "      <td>37.770000</td>\n",
       "    </tr>\n",
       "    <tr>\n",
       "      <th>2</th>\n",
       "      <td>37.770000</td>\n",
       "    </tr>\n",
       "    <tr>\n",
       "      <th>3</th>\n",
       "      <td>38.500000</td>\n",
       "    </tr>\n",
       "    <tr>\n",
       "      <th>4</th>\n",
       "      <td>38.500000</td>\n",
       "    </tr>\n",
       "  </tbody>\n",
       "</table>\n",
       "</div>"
      ],
      "text/plain": [
       "       Close\n",
       "0  37.240002\n",
       "1  37.770000\n",
       "2  37.770000\n",
       "3  38.500000\n",
       "4  38.500000"
      ]
     },
     "execution_count": 14,
     "metadata": {},
     "output_type": "execute_result"
    }
   ],
   "source": [
    "data_training.head()"
   ]
  },
  {
   "cell_type": "code",
   "execution_count": 15,
   "metadata": {
    "colab": {
     "base_uri": "https://localhost:8080/",
     "height": 206
    },
    "id": "XTvNjiCzxiwE",
    "outputId": "2a4257cd-d555-4ebf-ce43-be0338b206f6"
   },
   "outputs": [
    {
     "data": {
      "text/html": [
       "<div>\n",
       "<style scoped>\n",
       "    .dataframe tbody tr th:only-of-type {\n",
       "        vertical-align: middle;\n",
       "    }\n",
       "\n",
       "    .dataframe tbody tr th {\n",
       "        vertical-align: top;\n",
       "    }\n",
       "\n",
       "    .dataframe thead th {\n",
       "        text-align: right;\n",
       "    }\n",
       "</style>\n",
       "<table border=\"1\" class=\"dataframe\">\n",
       "  <thead>\n",
       "    <tr style=\"text-align: right;\">\n",
       "      <th></th>\n",
       "      <th>Close</th>\n",
       "    </tr>\n",
       "  </thead>\n",
       "  <tbody>\n",
       "    <tr>\n",
       "      <th>1007</th>\n",
       "      <td>41.049999</td>\n",
       "    </tr>\n",
       "    <tr>\n",
       "      <th>1008</th>\n",
       "      <td>41.720001</td>\n",
       "    </tr>\n",
       "    <tr>\n",
       "      <th>1009</th>\n",
       "      <td>41.849998</td>\n",
       "    </tr>\n",
       "    <tr>\n",
       "      <th>1010</th>\n",
       "      <td>41.990002</td>\n",
       "    </tr>\n",
       "    <tr>\n",
       "      <th>1011</th>\n",
       "      <td>42.119999</td>\n",
       "    </tr>\n",
       "  </tbody>\n",
       "</table>\n",
       "</div>"
      ],
      "text/plain": [
       "          Close\n",
       "1007  41.049999\n",
       "1008  41.720001\n",
       "1009  41.849998\n",
       "1010  41.990002\n",
       "1011  42.119999"
      ]
     },
     "execution_count": 15,
     "metadata": {},
     "output_type": "execute_result"
    }
   ],
   "source": [
    "data_testing.head()"
   ]
  },
  {
   "cell_type": "code",
   "execution_count": 16,
   "metadata": {
    "id": "yywWceAhxzDm"
   },
   "outputs": [],
   "source": [
    "from sklearn.preprocessing import MinMaxScaler\n",
    "scaler = MinMaxScaler(feature_range=(0,1))"
   ]
  },
  {
   "cell_type": "code",
   "execution_count": 17,
   "metadata": {
    "colab": {
     "base_uri": "https://localhost:8080/"
    },
    "id": "9RwyY_z-yPMp",
    "outputId": "01f8ed75-15df-42c6-a0f4-4a66233f9c6b"
   },
   "outputs": [
    {
     "data": {
      "text/plain": [
       "(1007, 1)"
      ]
     },
     "execution_count": 17,
     "metadata": {},
     "output_type": "execute_result"
    }
   ],
   "source": [
    "data_training_array = scaler.fit_transform(data_training)\n",
    "data_training_array.shape"
   ]
  },
  {
   "cell_type": "code",
   "execution_count": 18,
   "metadata": {
    "id": "9dDKcXVWyzhz"
   },
   "outputs": [],
   "source": [
    "x_train = []\n",
    "y_train = []\n",
    "\n",
    "for i in range(100, data_training_array.shape[0]):\n",
    "  x_train.append(data_training_array[i-100: i])\n",
    "  y_train.append(data_training_array[i, 0])\n",
    "\n",
    "x_train, y_train = np.array(x_train), np.array(y_train)\n"
   ]
  },
  {
   "cell_type": "code",
   "execution_count": 19,
   "metadata": {
    "colab": {
     "base_uri": "https://localhost:8080/"
    },
    "id": "7t8wqCEO1mQy",
    "outputId": "bf319a0a-4d93-4d2f-e01a-c77e81038c6c"
   },
   "outputs": [
    {
     "data": {
      "text/plain": [
       "(907, 100, 1)"
      ]
     },
     "execution_count": 19,
     "metadata": {},
     "output_type": "execute_result"
    }
   ],
   "source": [
    "x_train.shape"
   ]
  },
  {
   "cell_type": "code",
   "execution_count": 20,
   "metadata": {
    "id": "UgbxcKgM23hM"
   },
   "outputs": [],
   "source": [
    "#ML model"
   ]
  },
  {
   "cell_type": "code",
   "execution_count": 21,
   "metadata": {
    "id": "PoyReO7L1r5W"
   },
   "outputs": [],
   "source": [
    "from keras. layers import Dense, Dropout, LSTM\n",
    "from keras. models import Sequential"
   ]
  },
  {
   "cell_type": "code",
   "execution_count": 22,
   "metadata": {
    "id": "KKphQVkM1_7k"
   },
   "outputs": [
    {
     "name": "stderr",
     "output_type": "stream",
     "text": [
      "c:\\Users\\sunde\\AppData\\Local\\Programs\\Python\\Python312\\Lib\\site-packages\\keras\\src\\layers\\rnn\\rnn.py:205: UserWarning: Do not pass an `input_shape`/`input_dim` argument to a layer. When using Sequential models, prefer using an `Input(shape)` object as the first layer in the model instead.\n",
      "  super().__init__(**kwargs)\n"
     ]
    }
   ],
   "source": [
    "model = Sequential()\n",
    "model.add(LSTM(units = 50, activation = 'relu', return_sequences = True,\n",
    "               input_shape = (x_train.shape[1], 1)))\n",
    "model.add(Dropout(0.2))\n",
    "\n",
    "\n",
    "model.add(LSTM(units = 60, activation = 'relu', return_sequences = True,))\n",
    "model.add(Dropout(0.3))\n",
    "\n",
    "\n",
    "model.add(LSTM(units = 80, activation = 'relu', return_sequences = True,))\n",
    "model.add(Dropout(0.4))\n",
    "\n",
    "model.add(LSTM(units = 120, activation = 'relu'))\n",
    "model.add(Dropout(0.5))\n",
    "\n",
    "model.add(Dense(units = 1))"
   ]
  },
  {
   "cell_type": "code",
   "execution_count": 23,
   "metadata": {
    "colab": {
     "base_uri": "https://localhost:8080/"
    },
    "id": "S7N9BXvs2NC1",
    "outputId": "82c6e1ab-5b38-4476-8727-dd20534ed0ef"
   },
   "outputs": [
    {
     "data": {
      "text/html": [
       "<pre style=\"white-space:pre;overflow-x:auto;line-height:normal;font-family:Menlo,'DejaVu Sans Mono',consolas,'Courier New',monospace\"><span style=\"font-weight: bold\">Model: \"sequential\"</span>\n",
       "</pre>\n"
      ],
      "text/plain": [
       "\u001b[1mModel: \"sequential\"\u001b[0m\n"
      ]
     },
     "metadata": {},
     "output_type": "display_data"
    },
    {
     "data": {
      "text/html": [
       "<pre style=\"white-space:pre;overflow-x:auto;line-height:normal;font-family:Menlo,'DejaVu Sans Mono',consolas,'Courier New',monospace\">┏━━━━━━━━━━━━━━━━━━━━━━━━━━━━━━━━━┳━━━━━━━━━━━━━━━━━━━━━━━━┳━━━━━━━━━━━━━━━┓\n",
       "┃<span style=\"font-weight: bold\"> Layer (type)                    </span>┃<span style=\"font-weight: bold\"> Output Shape           </span>┃<span style=\"font-weight: bold\">       Param # </span>┃\n",
       "┡━━━━━━━━━━━━━━━━━━━━━━━━━━━━━━━━━╇━━━━━━━━━━━━━━━━━━━━━━━━╇━━━━━━━━━━━━━━━┩\n",
       "│ lstm (<span style=\"color: #0087ff; text-decoration-color: #0087ff\">LSTM</span>)                     │ (<span style=\"color: #00d7ff; text-decoration-color: #00d7ff\">None</span>, <span style=\"color: #00af00; text-decoration-color: #00af00\">100</span>, <span style=\"color: #00af00; text-decoration-color: #00af00\">50</span>)        │        <span style=\"color: #00af00; text-decoration-color: #00af00\">10,400</span> │\n",
       "├─────────────────────────────────┼────────────────────────┼───────────────┤\n",
       "│ dropout (<span style=\"color: #0087ff; text-decoration-color: #0087ff\">Dropout</span>)               │ (<span style=\"color: #00d7ff; text-decoration-color: #00d7ff\">None</span>, <span style=\"color: #00af00; text-decoration-color: #00af00\">100</span>, <span style=\"color: #00af00; text-decoration-color: #00af00\">50</span>)        │             <span style=\"color: #00af00; text-decoration-color: #00af00\">0</span> │\n",
       "├─────────────────────────────────┼────────────────────────┼───────────────┤\n",
       "│ lstm_1 (<span style=\"color: #0087ff; text-decoration-color: #0087ff\">LSTM</span>)                   │ (<span style=\"color: #00d7ff; text-decoration-color: #00d7ff\">None</span>, <span style=\"color: #00af00; text-decoration-color: #00af00\">100</span>, <span style=\"color: #00af00; text-decoration-color: #00af00\">60</span>)        │        <span style=\"color: #00af00; text-decoration-color: #00af00\">26,640</span> │\n",
       "├─────────────────────────────────┼────────────────────────┼───────────────┤\n",
       "│ dropout_1 (<span style=\"color: #0087ff; text-decoration-color: #0087ff\">Dropout</span>)             │ (<span style=\"color: #00d7ff; text-decoration-color: #00d7ff\">None</span>, <span style=\"color: #00af00; text-decoration-color: #00af00\">100</span>, <span style=\"color: #00af00; text-decoration-color: #00af00\">60</span>)        │             <span style=\"color: #00af00; text-decoration-color: #00af00\">0</span> │\n",
       "├─────────────────────────────────┼────────────────────────┼───────────────┤\n",
       "│ lstm_2 (<span style=\"color: #0087ff; text-decoration-color: #0087ff\">LSTM</span>)                   │ (<span style=\"color: #00d7ff; text-decoration-color: #00d7ff\">None</span>, <span style=\"color: #00af00; text-decoration-color: #00af00\">100</span>, <span style=\"color: #00af00; text-decoration-color: #00af00\">80</span>)        │        <span style=\"color: #00af00; text-decoration-color: #00af00\">45,120</span> │\n",
       "├─────────────────────────────────┼────────────────────────┼───────────────┤\n",
       "│ dropout_2 (<span style=\"color: #0087ff; text-decoration-color: #0087ff\">Dropout</span>)             │ (<span style=\"color: #00d7ff; text-decoration-color: #00d7ff\">None</span>, <span style=\"color: #00af00; text-decoration-color: #00af00\">100</span>, <span style=\"color: #00af00; text-decoration-color: #00af00\">80</span>)        │             <span style=\"color: #00af00; text-decoration-color: #00af00\">0</span> │\n",
       "├─────────────────────────────────┼────────────────────────┼───────────────┤\n",
       "│ lstm_3 (<span style=\"color: #0087ff; text-decoration-color: #0087ff\">LSTM</span>)                   │ (<span style=\"color: #00d7ff; text-decoration-color: #00d7ff\">None</span>, <span style=\"color: #00af00; text-decoration-color: #00af00\">120</span>)            │        <span style=\"color: #00af00; text-decoration-color: #00af00\">96,480</span> │\n",
       "├─────────────────────────────────┼────────────────────────┼───────────────┤\n",
       "│ dropout_3 (<span style=\"color: #0087ff; text-decoration-color: #0087ff\">Dropout</span>)             │ (<span style=\"color: #00d7ff; text-decoration-color: #00d7ff\">None</span>, <span style=\"color: #00af00; text-decoration-color: #00af00\">120</span>)            │             <span style=\"color: #00af00; text-decoration-color: #00af00\">0</span> │\n",
       "├─────────────────────────────────┼────────────────────────┼───────────────┤\n",
       "│ dense (<span style=\"color: #0087ff; text-decoration-color: #0087ff\">Dense</span>)                   │ (<span style=\"color: #00d7ff; text-decoration-color: #00d7ff\">None</span>, <span style=\"color: #00af00; text-decoration-color: #00af00\">1</span>)              │           <span style=\"color: #00af00; text-decoration-color: #00af00\">121</span> │\n",
       "└─────────────────────────────────┴────────────────────────┴───────────────┘\n",
       "</pre>\n"
      ],
      "text/plain": [
       "┏━━━━━━━━━━━━━━━━━━━━━━━━━━━━━━━━━┳━━━━━━━━━━━━━━━━━━━━━━━━┳━━━━━━━━━━━━━━━┓\n",
       "┃\u001b[1m \u001b[0m\u001b[1mLayer (type)                   \u001b[0m\u001b[1m \u001b[0m┃\u001b[1m \u001b[0m\u001b[1mOutput Shape          \u001b[0m\u001b[1m \u001b[0m┃\u001b[1m \u001b[0m\u001b[1m      Param #\u001b[0m\u001b[1m \u001b[0m┃\n",
       "┡━━━━━━━━━━━━━━━━━━━━━━━━━━━━━━━━━╇━━━━━━━━━━━━━━━━━━━━━━━━╇━━━━━━━━━━━━━━━┩\n",
       "│ lstm (\u001b[38;5;33mLSTM\u001b[0m)                     │ (\u001b[38;5;45mNone\u001b[0m, \u001b[38;5;34m100\u001b[0m, \u001b[38;5;34m50\u001b[0m)        │        \u001b[38;5;34m10,400\u001b[0m │\n",
       "├─────────────────────────────────┼────────────────────────┼───────────────┤\n",
       "│ dropout (\u001b[38;5;33mDropout\u001b[0m)               │ (\u001b[38;5;45mNone\u001b[0m, \u001b[38;5;34m100\u001b[0m, \u001b[38;5;34m50\u001b[0m)        │             \u001b[38;5;34m0\u001b[0m │\n",
       "├─────────────────────────────────┼────────────────────────┼───────────────┤\n",
       "│ lstm_1 (\u001b[38;5;33mLSTM\u001b[0m)                   │ (\u001b[38;5;45mNone\u001b[0m, \u001b[38;5;34m100\u001b[0m, \u001b[38;5;34m60\u001b[0m)        │        \u001b[38;5;34m26,640\u001b[0m │\n",
       "├─────────────────────────────────┼────────────────────────┼───────────────┤\n",
       "│ dropout_1 (\u001b[38;5;33mDropout\u001b[0m)             │ (\u001b[38;5;45mNone\u001b[0m, \u001b[38;5;34m100\u001b[0m, \u001b[38;5;34m60\u001b[0m)        │             \u001b[38;5;34m0\u001b[0m │\n",
       "├─────────────────────────────────┼────────────────────────┼───────────────┤\n",
       "│ lstm_2 (\u001b[38;5;33mLSTM\u001b[0m)                   │ (\u001b[38;5;45mNone\u001b[0m, \u001b[38;5;34m100\u001b[0m, \u001b[38;5;34m80\u001b[0m)        │        \u001b[38;5;34m45,120\u001b[0m │\n",
       "├─────────────────────────────────┼────────────────────────┼───────────────┤\n",
       "│ dropout_2 (\u001b[38;5;33mDropout\u001b[0m)             │ (\u001b[38;5;45mNone\u001b[0m, \u001b[38;5;34m100\u001b[0m, \u001b[38;5;34m80\u001b[0m)        │             \u001b[38;5;34m0\u001b[0m │\n",
       "├─────────────────────────────────┼────────────────────────┼───────────────┤\n",
       "│ lstm_3 (\u001b[38;5;33mLSTM\u001b[0m)                   │ (\u001b[38;5;45mNone\u001b[0m, \u001b[38;5;34m120\u001b[0m)            │        \u001b[38;5;34m96,480\u001b[0m │\n",
       "├─────────────────────────────────┼────────────────────────┼───────────────┤\n",
       "│ dropout_3 (\u001b[38;5;33mDropout\u001b[0m)             │ (\u001b[38;5;45mNone\u001b[0m, \u001b[38;5;34m120\u001b[0m)            │             \u001b[38;5;34m0\u001b[0m │\n",
       "├─────────────────────────────────┼────────────────────────┼───────────────┤\n",
       "│ dense (\u001b[38;5;33mDense\u001b[0m)                   │ (\u001b[38;5;45mNone\u001b[0m, \u001b[38;5;34m1\u001b[0m)              │           \u001b[38;5;34m121\u001b[0m │\n",
       "└─────────────────────────────────┴────────────────────────┴───────────────┘\n"
      ]
     },
     "metadata": {},
     "output_type": "display_data"
    },
    {
     "data": {
      "text/html": [
       "<pre style=\"white-space:pre;overflow-x:auto;line-height:normal;font-family:Menlo,'DejaVu Sans Mono',consolas,'Courier New',monospace\"><span style=\"font-weight: bold\"> Total params: </span><span style=\"color: #00af00; text-decoration-color: #00af00\">178,761</span> (698.29 KB)\n",
       "</pre>\n"
      ],
      "text/plain": [
       "\u001b[1m Total params: \u001b[0m\u001b[38;5;34m178,761\u001b[0m (698.29 KB)\n"
      ]
     },
     "metadata": {},
     "output_type": "display_data"
    },
    {
     "data": {
      "text/html": [
       "<pre style=\"white-space:pre;overflow-x:auto;line-height:normal;font-family:Menlo,'DejaVu Sans Mono',consolas,'Courier New',monospace\"><span style=\"font-weight: bold\"> Trainable params: </span><span style=\"color: #00af00; text-decoration-color: #00af00\">178,761</span> (698.29 KB)\n",
       "</pre>\n"
      ],
      "text/plain": [
       "\u001b[1m Trainable params: \u001b[0m\u001b[38;5;34m178,761\u001b[0m (698.29 KB)\n"
      ]
     },
     "metadata": {},
     "output_type": "display_data"
    },
    {
     "data": {
      "text/html": [
       "<pre style=\"white-space:pre;overflow-x:auto;line-height:normal;font-family:Menlo,'DejaVu Sans Mono',consolas,'Courier New',monospace\"><span style=\"font-weight: bold\"> Non-trainable params: </span><span style=\"color: #00af00; text-decoration-color: #00af00\">0</span> (0.00 B)\n",
       "</pre>\n"
      ],
      "text/plain": [
       "\u001b[1m Non-trainable params: \u001b[0m\u001b[38;5;34m0\u001b[0m (0.00 B)\n"
      ]
     },
     "metadata": {},
     "output_type": "display_data"
    }
   ],
   "source": [
    "model.summary()"
   ]
  },
  {
   "cell_type": "code",
   "execution_count": 24,
   "metadata": {
    "colab": {
     "base_uri": "https://localhost:8080/"
    },
    "id": "O-zfZfpD2Nlg",
    "outputId": "9cdc6228-d767-40e0-fc18-6350ff2267c1"
   },
   "outputs": [
    {
     "name": "stdout",
     "output_type": "stream",
     "text": [
      "Epoch 1/50\n",
      "\u001b[1m29/29\u001b[0m \u001b[32m━━━━━━━━━━━━━━━━━━━━\u001b[0m\u001b[37m\u001b[0m \u001b[1m20s\u001b[0m 208ms/step - loss: 0.2666\n",
      "Epoch 2/50\n",
      "\u001b[1m29/29\u001b[0m \u001b[32m━━━━━━━━━━━━━━━━━━━━\u001b[0m\u001b[37m\u001b[0m \u001b[1m6s\u001b[0m 198ms/step - loss: 0.0248\n",
      "Epoch 3/50\n",
      "\u001b[1m29/29\u001b[0m \u001b[32m━━━━━━━━━━━━━━━━━━━━\u001b[0m\u001b[37m\u001b[0m \u001b[1m6s\u001b[0m 197ms/step - loss: 0.0182\n",
      "Epoch 4/50\n",
      "\u001b[1m29/29\u001b[0m \u001b[32m━━━━━━━━━━━━━━━━━━━━\u001b[0m\u001b[37m\u001b[0m \u001b[1m10s\u001b[0m 197ms/step - loss: 0.0158\n",
      "Epoch 5/50\n",
      "\u001b[1m29/29\u001b[0m \u001b[32m━━━━━━━━━━━━━━━━━━━━\u001b[0m\u001b[37m\u001b[0m \u001b[1m6s\u001b[0m 196ms/step - loss: 0.0157\n",
      "Epoch 6/50\n",
      "\u001b[1m29/29\u001b[0m \u001b[32m━━━━━━━━━━━━━━━━━━━━\u001b[0m\u001b[37m\u001b[0m \u001b[1m6s\u001b[0m 207ms/step - loss: 0.0139\n",
      "Epoch 7/50\n",
      "\u001b[1m29/29\u001b[0m \u001b[32m━━━━━━━━━━━━━━━━━━━━\u001b[0m\u001b[37m\u001b[0m \u001b[1m6s\u001b[0m 203ms/step - loss: 0.0135\n",
      "Epoch 8/50\n",
      "\u001b[1m29/29\u001b[0m \u001b[32m━━━━━━━━━━━━━━━━━━━━\u001b[0m\u001b[37m\u001b[0m \u001b[1m6s\u001b[0m 208ms/step - loss: 0.0120\n",
      "Epoch 9/50\n",
      "\u001b[1m29/29\u001b[0m \u001b[32m━━━━━━━━━━━━━━━━━━━━\u001b[0m\u001b[37m\u001b[0m \u001b[1m10s\u001b[0m 210ms/step - loss: 0.0117\n",
      "Epoch 10/50\n",
      "\u001b[1m29/29\u001b[0m \u001b[32m━━━━━━━━━━━━━━━━━━━━\u001b[0m\u001b[37m\u001b[0m \u001b[1m6s\u001b[0m 211ms/step - loss: 0.0103\n",
      "Epoch 11/50\n",
      "\u001b[1m29/29\u001b[0m \u001b[32m━━━━━━━━━━━━━━━━━━━━\u001b[0m\u001b[37m\u001b[0m \u001b[1m11s\u001b[0m 246ms/step - loss: 0.0106\n",
      "Epoch 12/50\n",
      "\u001b[1m29/29\u001b[0m \u001b[32m━━━━━━━━━━━━━━━━━━━━\u001b[0m\u001b[37m\u001b[0m \u001b[1m10s\u001b[0m 223ms/step - loss: 0.0116\n",
      "Epoch 13/50\n",
      "\u001b[1m29/29\u001b[0m \u001b[32m━━━━━━━━━━━━━━━━━━━━\u001b[0m\u001b[37m\u001b[0m \u001b[1m6s\u001b[0m 193ms/step - loss: 0.0095\n",
      "Epoch 14/50\n",
      "\u001b[1m29/29\u001b[0m \u001b[32m━━━━━━━━━━━━━━━━━━━━\u001b[0m\u001b[37m\u001b[0m \u001b[1m6s\u001b[0m 198ms/step - loss: 0.0088\n",
      "Epoch 15/50\n",
      "\u001b[1m29/29\u001b[0m \u001b[32m━━━━━━━━━━━━━━━━━━━━\u001b[0m\u001b[37m\u001b[0m \u001b[1m6s\u001b[0m 220ms/step - loss: 0.0104\n",
      "Epoch 16/50\n",
      "\u001b[1m29/29\u001b[0m \u001b[32m━━━━━━━━━━━━━━━━━━━━\u001b[0m\u001b[37m\u001b[0m \u001b[1m6s\u001b[0m 194ms/step - loss: 0.0101\n",
      "Epoch 17/50\n",
      "\u001b[1m29/29\u001b[0m \u001b[32m━━━━━━━━━━━━━━━━━━━━\u001b[0m\u001b[37m\u001b[0m \u001b[1m5s\u001b[0m 179ms/step - loss: 0.0110\n",
      "Epoch 18/50\n",
      "\u001b[1m29/29\u001b[0m \u001b[32m━━━━━━━━━━━━━━━━━━━━\u001b[0m\u001b[37m\u001b[0m \u001b[1m5s\u001b[0m 175ms/step - loss: 0.0091\n",
      "Epoch 19/50\n",
      "\u001b[1m29/29\u001b[0m \u001b[32m━━━━━━━━━━━━━━━━━━━━\u001b[0m\u001b[37m\u001b[0m \u001b[1m5s\u001b[0m 179ms/step - loss: 0.0106\n",
      "Epoch 20/50\n",
      "\u001b[1m29/29\u001b[0m \u001b[32m━━━━━━━━━━━━━━━━━━━━\u001b[0m\u001b[37m\u001b[0m \u001b[1m5s\u001b[0m 176ms/step - loss: 0.0093\n",
      "Epoch 21/50\n",
      "\u001b[1m29/29\u001b[0m \u001b[32m━━━━━━━━━━━━━━━━━━━━\u001b[0m\u001b[37m\u001b[0m \u001b[1m5s\u001b[0m 175ms/step - loss: 0.0098\n",
      "Epoch 22/50\n",
      "\u001b[1m29/29\u001b[0m \u001b[32m━━━━━━━━━━━━━━━━━━━━\u001b[0m\u001b[37m\u001b[0m \u001b[1m5s\u001b[0m 184ms/step - loss: 0.0083\n",
      "Epoch 23/50\n",
      "\u001b[1m29/29\u001b[0m \u001b[32m━━━━━━━━━━━━━━━━━━━━\u001b[0m\u001b[37m\u001b[0m \u001b[1m8s\u001b[0m 269ms/step - loss: 0.0080\n",
      "Epoch 24/50\n",
      "\u001b[1m29/29\u001b[0m \u001b[32m━━━━━━━━━━━━━━━━━━━━\u001b[0m\u001b[37m\u001b[0m \u001b[1m8s\u001b[0m 282ms/step - loss: 0.0084\n",
      "Epoch 25/50\n",
      "\u001b[1m29/29\u001b[0m \u001b[32m━━━━━━━━━━━━━━━━━━━━\u001b[0m\u001b[37m\u001b[0m \u001b[1m7s\u001b[0m 229ms/step - loss: 0.0084\n",
      "Epoch 26/50\n",
      "\u001b[1m29/29\u001b[0m \u001b[32m━━━━━━━━━━━━━━━━━━━━\u001b[0m\u001b[37m\u001b[0m \u001b[1m6s\u001b[0m 210ms/step - loss: 0.0091\n",
      "Epoch 27/50\n",
      "\u001b[1m29/29\u001b[0m \u001b[32m━━━━━━━━━━━━━━━━━━━━\u001b[0m\u001b[37m\u001b[0m \u001b[1m6s\u001b[0m 218ms/step - loss: 0.0075\n",
      "Epoch 28/50\n",
      "\u001b[1m29/29\u001b[0m \u001b[32m━━━━━━━━━━━━━━━━━━━━\u001b[0m\u001b[37m\u001b[0m \u001b[1m10s\u001b[0m 200ms/step - loss: 0.0082\n",
      "Epoch 29/50\n",
      "\u001b[1m29/29\u001b[0m \u001b[32m━━━━━━━━━━━━━━━━━━━━\u001b[0m\u001b[37m\u001b[0m \u001b[1m6s\u001b[0m 223ms/step - loss: 0.0078\n",
      "Epoch 30/50\n",
      "\u001b[1m29/29\u001b[0m \u001b[32m━━━━━━━━━━━━━━━━━━━━\u001b[0m\u001b[37m\u001b[0m \u001b[1m6s\u001b[0m 222ms/step - loss: 0.0081\n",
      "Epoch 31/50\n",
      "\u001b[1m29/29\u001b[0m \u001b[32m━━━━━━━━━━━━━━━━━━━━\u001b[0m\u001b[37m\u001b[0m \u001b[1m6s\u001b[0m 204ms/step - loss: 0.0103\n",
      "Epoch 32/50\n",
      "\u001b[1m29/29\u001b[0m \u001b[32m━━━━━━━━━━━━━━━━━━━━\u001b[0m\u001b[37m\u001b[0m \u001b[1m6s\u001b[0m 212ms/step - loss: 0.0077\n",
      "Epoch 33/50\n",
      "\u001b[1m29/29\u001b[0m \u001b[32m━━━━━━━━━━━━━━━━━━━━\u001b[0m\u001b[37m\u001b[0m \u001b[1m6s\u001b[0m 214ms/step - loss: 0.0065\n",
      "Epoch 34/50\n",
      "\u001b[1m29/29\u001b[0m \u001b[32m━━━━━━━━━━━━━━━━━━━━\u001b[0m\u001b[37m\u001b[0m \u001b[1m6s\u001b[0m 201ms/step - loss: 0.0068\n",
      "Epoch 35/50\n",
      "\u001b[1m29/29\u001b[0m \u001b[32m━━━━━━━━━━━━━━━━━━━━\u001b[0m\u001b[37m\u001b[0m \u001b[1m5s\u001b[0m 186ms/step - loss: 0.0062\n",
      "Epoch 36/50\n",
      "\u001b[1m29/29\u001b[0m \u001b[32m━━━━━━━━━━━━━━━━━━━━\u001b[0m\u001b[37m\u001b[0m \u001b[1m5s\u001b[0m 184ms/step - loss: 0.0078\n",
      "Epoch 37/50\n",
      "\u001b[1m29/29\u001b[0m \u001b[32m━━━━━━━━━━━━━━━━━━━━\u001b[0m\u001b[37m\u001b[0m \u001b[1m7s\u001b[0m 226ms/step - loss: 0.0066\n",
      "Epoch 38/50\n",
      "\u001b[1m29/29\u001b[0m \u001b[32m━━━━━━━━━━━━━━━━━━━━\u001b[0m\u001b[37m\u001b[0m \u001b[1m9s\u001b[0m 194ms/step - loss: 0.0065\n",
      "Epoch 39/50\n",
      "\u001b[1m29/29\u001b[0m \u001b[32m━━━━━━━━━━━━━━━━━━━━\u001b[0m\u001b[37m\u001b[0m \u001b[1m6s\u001b[0m 195ms/step - loss: 0.0065\n",
      "Epoch 40/50\n",
      "\u001b[1m29/29\u001b[0m \u001b[32m━━━━━━━━━━━━━━━━━━━━\u001b[0m\u001b[37m\u001b[0m \u001b[1m5s\u001b[0m 186ms/step - loss: 0.0074\n",
      "Epoch 41/50\n",
      "\u001b[1m29/29\u001b[0m \u001b[32m━━━━━━━━━━━━━━━━━━━━\u001b[0m\u001b[37m\u001b[0m \u001b[1m6s\u001b[0m 201ms/step - loss: 0.0062\n",
      "Epoch 42/50\n",
      "\u001b[1m29/29\u001b[0m \u001b[32m━━━━━━━━━━━━━━━━━━━━\u001b[0m\u001b[37m\u001b[0m \u001b[1m7s\u001b[0m 227ms/step - loss: 0.0062\n",
      "Epoch 43/50\n",
      "\u001b[1m29/29\u001b[0m \u001b[32m━━━━━━━━━━━━━━━━━━━━\u001b[0m\u001b[37m\u001b[0m \u001b[1m6s\u001b[0m 201ms/step - loss: 0.0057\n",
      "Epoch 44/50\n",
      "\u001b[1m29/29\u001b[0m \u001b[32m━━━━━━━━━━━━━━━━━━━━\u001b[0m\u001b[37m\u001b[0m \u001b[1m7s\u001b[0m 228ms/step - loss: 0.0073\n",
      "Epoch 45/50\n",
      "\u001b[1m29/29\u001b[0m \u001b[32m━━━━━━━━━━━━━━━━━━━━\u001b[0m\u001b[37m\u001b[0m \u001b[1m6s\u001b[0m 205ms/step - loss: 0.0066\n",
      "Epoch 46/50\n",
      "\u001b[1m29/29\u001b[0m \u001b[32m━━━━━━━━━━━━━━━━━━━━\u001b[0m\u001b[37m\u001b[0m \u001b[1m6s\u001b[0m 207ms/step - loss: 0.0060\n",
      "Epoch 47/50\n",
      "\u001b[1m29/29\u001b[0m \u001b[32m━━━━━━━━━━━━━━━━━━━━\u001b[0m\u001b[37m\u001b[0m \u001b[1m7s\u001b[0m 229ms/step - loss: 0.0059\n",
      "Epoch 48/50\n",
      "\u001b[1m29/29\u001b[0m \u001b[32m━━━━━━━━━━━━━━━━━━━━\u001b[0m\u001b[37m\u001b[0m \u001b[1m6s\u001b[0m 206ms/step - loss: 0.0057\n",
      "Epoch 49/50\n",
      "\u001b[1m29/29\u001b[0m \u001b[32m━━━━━━━━━━━━━━━━━━━━\u001b[0m\u001b[37m\u001b[0m \u001b[1m10s\u001b[0m 207ms/step - loss: 0.0066\n",
      "Epoch 50/50\n",
      "\u001b[1m29/29\u001b[0m \u001b[32m━━━━━━━━━━━━━━━━━━━━\u001b[0m\u001b[37m\u001b[0m \u001b[1m6s\u001b[0m 194ms/step - loss: 0.0061\n"
     ]
    },
    {
     "data": {
      "text/plain": [
       "<keras.src.callbacks.history.History at 0x1782cf68d40>"
      ]
     },
     "execution_count": 24,
     "metadata": {},
     "output_type": "execute_result"
    }
   ],
   "source": [
    "model.compile(optimizer='adam',loss = 'mean_squared_error')\n",
    "model.fit(x_train, y_train, epochs = 50)"
   ]
  },
  {
   "cell_type": "code",
   "execution_count": 25,
   "metadata": {
    "colab": {
     "base_uri": "https://localhost:8080/"
    },
    "id": "hk_bSjzu2N_C",
    "outputId": "43a1f3ca-763f-4539-d505-56df3b30ef04"
   },
   "outputs": [
    {
     "name": "stderr",
     "output_type": "stream",
     "text": [
      "WARNING:absl:You are saving your model as an HDF5 file via `model.save()` or `keras.saving.save_model(model)`. This file format is considered legacy. We recommend using instead the native Keras format, e.g. `model.save('my_model.keras')` or `keras.saving.save_model(model, 'my_model.keras')`. \n"
     ]
    }
   ],
   "source": [
    "model.save('keras_model.h5')"
   ]
  },
  {
   "cell_type": "code",
   "execution_count": 26,
   "metadata": {
    "id": "cVxRW1uB2OK4"
   },
   "outputs": [],
   "source": [
    "past_100_day = data_training.tail(100)"
   ]
  },
  {
   "cell_type": "code",
   "execution_count": 27,
   "metadata": {
    "colab": {
     "base_uri": "https://localhost:8080/",
     "height": 206
    },
    "id": "n6DBbCLP2OU4",
    "outputId": "af58f52f-90ba-4fe4-a5b4-a16702ee319f"
   },
   "outputs": [
    {
     "data": {
      "text/html": [
       "<div>\n",
       "<style scoped>\n",
       "    .dataframe tbody tr th:only-of-type {\n",
       "        vertical-align: middle;\n",
       "    }\n",
       "\n",
       "    .dataframe tbody tr th {\n",
       "        vertical-align: top;\n",
       "    }\n",
       "\n",
       "    .dataframe thead th {\n",
       "        text-align: right;\n",
       "    }\n",
       "</style>\n",
       "<table border=\"1\" class=\"dataframe\">\n",
       "  <thead>\n",
       "    <tr style=\"text-align: right;\">\n",
       "      <th></th>\n",
       "      <th>Close</th>\n",
       "    </tr>\n",
       "  </thead>\n",
       "  <tbody>\n",
       "    <tr>\n",
       "      <th>0</th>\n",
       "      <td>45.049999</td>\n",
       "    </tr>\n",
       "    <tr>\n",
       "      <th>1</th>\n",
       "      <td>44.290001</td>\n",
       "    </tr>\n",
       "    <tr>\n",
       "      <th>2</th>\n",
       "      <td>44.509998</td>\n",
       "    </tr>\n",
       "    <tr>\n",
       "      <th>3</th>\n",
       "      <td>46.060001</td>\n",
       "    </tr>\n",
       "    <tr>\n",
       "      <th>4</th>\n",
       "      <td>45.750000</td>\n",
       "    </tr>\n",
       "  </tbody>\n",
       "</table>\n",
       "</div>"
      ],
      "text/plain": [
       "       Close\n",
       "0  45.049999\n",
       "1  44.290001\n",
       "2  44.509998\n",
       "3  46.060001\n",
       "4  45.750000"
      ]
     },
     "execution_count": 27,
     "metadata": {},
     "output_type": "execute_result"
    }
   ],
   "source": [
    "final_df = pd.concat ([past_100_day,data_testing], ignore_index = True)\n",
    "final_df.head()"
   ]
  },
  {
   "cell_type": "code",
   "execution_count": 28,
   "metadata": {
    "colab": {
     "base_uri": "https://localhost:8080/"
    },
    "id": "owFsrjKC2Odi",
    "outputId": "ce64e491-69bf-4680-c1e0-c6d417be784a"
   },
   "outputs": [
    {
     "data": {
      "text/plain": [
       "array([[0.2339181 ],\n",
       "       [0.18947376],\n",
       "       [0.2023391 ],\n",
       "       [0.29298254],\n",
       "       [0.27485381],\n",
       "       [0.29356724],\n",
       "       [0.25672508],\n",
       "       [0.32807017],\n",
       "       [0.31228067],\n",
       "       [0.28479522],\n",
       "       [0.28947369],\n",
       "       [0.25204683],\n",
       "       [0.24385973],\n",
       "       [0.24561405],\n",
       "       [0.23099417],\n",
       "       [0.25263153],\n",
       "       [0.25380114],\n",
       "       [0.27953228],\n",
       "       [0.27076026],\n",
       "       [0.28421052],\n",
       "       [0.34152043],\n",
       "       [0.34093573],\n",
       "       [0.32456132],\n",
       "       [0.29239762],\n",
       "       [0.27134496],\n",
       "       [0.27719304],\n",
       "       [0.30175434],\n",
       "       [0.26842103],\n",
       "       [0.26783633],\n",
       "       [0.29883041],\n",
       "       [0.30467827],\n",
       "       [0.24269012],\n",
       "       [0.23508771],\n",
       "       [0.26374278],\n",
       "       [0.25906431],\n",
       "       [0.23918126],\n",
       "       [0.18596491],\n",
       "       [0.10994157],\n",
       "       [0.14561411],\n",
       "       [0.15380121],\n",
       "       [0.17017541],\n",
       "       [0.15321629],\n",
       "       [0.16257323],\n",
       "       [0.15789476],\n",
       "       [0.14795335],\n",
       "       [0.18771922],\n",
       "       [0.18947376],\n",
       "       [0.19590654],\n",
       "       [0.18421059],\n",
       "       [0.20584795],\n",
       "       [0.22923985],\n",
       "       [0.21169582],\n",
       "       [0.20760227],\n",
       "       [0.21637428],\n",
       "       [0.20877188],\n",
       "       [0.2175439 ],\n",
       "       [0.19298239],\n",
       "       [0.17660819],\n",
       "       [0.18479529],\n",
       "       [0.15614045],\n",
       "       [0.16432754],\n",
       "       [0.17368426],\n",
       "       [0.09590638],\n",
       "       [0.11871359],\n",
       "       [0.09532169],\n",
       "       [0.11754397],\n",
       "       [0.10409371],\n",
       "       [0.13333347],\n",
       "       [0.10584802],\n",
       "       [0.18596491],\n",
       "       [0.12573107],\n",
       "       [0.09532169],\n",
       "       [0.13567248],\n",
       "       [0.13567248],\n",
       "       [0.12631576],\n",
       "       [0.09883054],\n",
       "       [0.06140346],\n",
       "       [0.07543864],\n",
       "       [0.05029243],\n",
       "       [0.05614029],\n",
       "       [0.03625724],\n",
       "       [0.07134509],\n",
       "       [0.06374269],\n",
       "       [0.11637435],\n",
       "       [0.128655  ],\n",
       "       [0.09532169],\n",
       "       [0.13216385],\n",
       "       [0.08771929],\n",
       "       [0.06725154],\n",
       "       [0.04619888],\n",
       "       [0.02748545],\n",
       "       [0.01052633],\n",
       "       [0.03859648],\n",
       "       [0.0233919 ],\n",
       "       [0.02631583],\n",
       "       [0.02222228],\n",
       "       [0.04444456],\n",
       "       [0.06023406],\n",
       "       [0.02514621],\n",
       "       [0.031579  ],\n",
       "       [0.        ],\n",
       "       [0.0391814 ],\n",
       "       [0.04678357],\n",
       "       [0.0549709 ],\n",
       "       [0.06257307],\n",
       "       [0.07777787],\n",
       "       [0.07368433],\n",
       "       [0.09532169],\n",
       "       [0.10760233],\n",
       "       [0.11871359],\n",
       "       [0.1362574 ],\n",
       "       [0.14795335],\n",
       "       [0.12456145],\n",
       "       [0.1280703 ],\n",
       "       [0.13567248],\n",
       "       [0.11578943],\n",
       "       [0.11695905],\n",
       "       [0.12397653],\n",
       "       [0.15672514],\n",
       "       [0.1368421 ],\n",
       "       [0.14269018],\n",
       "       [0.17719311],\n",
       "       [0.21111112],\n",
       "       [0.21520467],\n",
       "       [0.20584795],\n",
       "       [0.18479529],\n",
       "       [0.20000009],\n",
       "       [0.22163745],\n",
       "       [0.22456138],\n",
       "       [0.22456138],\n",
       "       [0.2415205 ],\n",
       "       [0.20116971],\n",
       "       [0.20643287],\n",
       "       [0.22280707],\n",
       "       [0.21052642],\n",
       "       [0.19883047],\n",
       "       [0.17485388],\n",
       "       [0.17485388],\n",
       "       [0.20760227],\n",
       "       [0.21169582],\n",
       "       [0.18538021],\n",
       "       [0.21111112],\n",
       "       [0.24853798],\n",
       "       [0.23976618],\n",
       "       [0.24444443],\n",
       "       [0.27017534],\n",
       "       [0.28070167],\n",
       "       [0.27543851],\n",
       "       [0.27192988],\n",
       "       [0.28479522],\n",
       "       [0.29239762],\n",
       "       [0.26374278],\n",
       "       [0.27836266],\n",
       "       [0.29766079],\n",
       "       [0.32807017],\n",
       "       [0.33567257],\n",
       "       [0.33391803],\n",
       "       [0.34093573],\n",
       "       [0.354386  ],\n",
       "       [0.3304094 ],\n",
       "       [0.3070175 ],\n",
       "       [0.32573093],\n",
       "       [0.3467836 ],\n",
       "       [0.36725156],\n",
       "       [0.37192981],\n",
       "       [0.39649133],\n",
       "       [0.39941526],\n",
       "       [0.40643274],\n",
       "       [0.36432741],\n",
       "       [0.38187145],\n",
       "       [0.35964916],\n",
       "       [0.38011691],\n",
       "       [0.41111121],\n",
       "       [0.40818705],\n",
       "       [0.41461984],\n",
       "       [0.43333327],\n",
       "       [0.40701744],\n",
       "       [0.41812869],\n",
       "       [0.43274857],\n",
       "       [0.42456147],\n",
       "       [0.41345022],\n",
       "       [0.40877197],\n",
       "       [0.44736845],\n",
       "       [0.42222224],\n",
       "       [0.42339185],\n",
       "       [0.45555555],\n",
       "       [0.4116959 ],\n",
       "       [0.36666664],\n",
       "       [0.37134511],\n",
       "       [0.36081878],\n",
       "       [0.38947362],\n",
       "       [0.38654969],\n",
       "       [0.39181286],\n",
       "       [0.38947362],\n",
       "       [0.36140348],\n",
       "       [0.354386  ],\n",
       "       [0.3309941 ],\n",
       "       [0.35321638],\n",
       "       [0.3304094 ],\n",
       "       [0.35614031],\n",
       "       [0.37953221],\n",
       "       [0.36842096],\n",
       "       [0.39707602],\n",
       "       [0.37660828],\n",
       "       [0.35730993],\n",
       "       [0.3625731 ],\n",
       "       [0.40526312],\n",
       "       [0.39532171],\n",
       "       [0.35380108],\n",
       "       [0.38596499],\n",
       "       [0.42690048],\n",
       "       [0.39590641],\n",
       "       [0.4356725 ],\n",
       "       [0.46023379],\n",
       "       [0.49181279],\n",
       "       [0.46374265],\n",
       "       [0.46491226],\n",
       "       [0.48245608],\n",
       "       [0.47777783],\n",
       "       [0.48947356],\n",
       "       [0.47660821],\n",
       "       [0.47309936],\n",
       "       [0.43450288],\n",
       "       [0.43040933],\n",
       "       [0.44736845],\n",
       "       [0.42105262],\n",
       "       [0.45497085],\n",
       "       [0.43684212],\n",
       "       [0.4438596 ],\n",
       "       [0.4274854 ],\n",
       "       [0.41520476],\n",
       "       [0.41520476],\n",
       "       [0.41637415],\n",
       "       [0.46140341],\n",
       "       [0.41578945],\n",
       "       [0.46140341],\n",
       "       [0.46491226],\n",
       "       [0.43918135],\n",
       "       [0.451462  ],\n",
       "       [0.46608188],\n",
       "       [0.46959073],\n",
       "       [0.4438596 ],\n",
       "       [0.451462  ],\n",
       "       [0.4356725 ],\n",
       "       [0.41637415],\n",
       "       [0.40643274],\n",
       "       [0.36959058],\n",
       "       [0.32748547],\n",
       "       [0.34502928],\n",
       "       [0.37953221],\n",
       "       [0.36432741],\n",
       "       [0.37076019],\n",
       "       [0.39590641],\n",
       "       [0.42631579],\n",
       "       [0.42397655],\n",
       "       [0.4356725 ],\n",
       "       [0.44093567],\n",
       "       [0.42573109],\n",
       "       [0.45321631],\n",
       "       [0.44152036],\n",
       "       [0.4754386 ],\n",
       "       [0.47660821],\n",
       "       [0.48654962],\n",
       "       [0.49824557],\n",
       "       [0.49999989],\n",
       "       [0.49941519],\n",
       "       [0.51052622],\n",
       "       [0.50292404],\n",
       "       [0.50175443],\n",
       "       [0.52339179],\n",
       "       [0.548538  ],\n",
       "       [0.56900575],\n",
       "       [0.5883041 ],\n",
       "       [0.61111107],\n",
       "       [0.6538011 ],\n",
       "       [0.64035084],\n",
       "       [0.64444438],\n",
       "       [0.62690057],\n",
       "       [0.64795324],\n",
       "       [0.64035084],\n",
       "       [0.69766074],\n",
       "       [0.69999998],\n",
       "       [0.72923974],\n",
       "       [0.71637417],\n",
       "       [0.73099405],\n",
       "       [0.63567237],\n",
       "       [0.677193  ],\n",
       "       [0.72222226],\n",
       "       [0.74853787],\n",
       "       [0.7748537 ],\n",
       "       [0.79122812],\n",
       "       [0.76081874],\n",
       "       [0.77543862],\n",
       "       [0.7672513 ],\n",
       "       [0.78070178],\n",
       "       [0.74912279],\n",
       "       [0.75555557],\n",
       "       [0.75964912],\n",
       "       [0.76900583],\n",
       "       [0.77953217],\n",
       "       [0.81754372],\n",
       "       [0.7906432 ],\n",
       "       [0.74385962],\n",
       "       [0.74444432],\n",
       "       [0.77953217],\n",
       "       [0.82573082],\n",
       "       [0.74678355],\n",
       "       [0.7824561 ],\n",
       "       [0.77836255],\n",
       "       [0.77777763],\n",
       "       [0.80175423],\n",
       "       [0.79239751],\n",
       "       [0.82397651],\n",
       "       [0.84912272],\n",
       "       [0.86900577],\n",
       "       [0.84970764],\n",
       "       [0.89649122],\n",
       "       [0.90701755],\n",
       "       [0.85263157],\n",
       "       [0.8637426 ],\n",
       "       [0.87660817],\n",
       "       [0.8479531 ],\n",
       "       [0.89824553],\n",
       "       [0.91695896],\n",
       "       [0.93508769],\n",
       "       [0.95204681],\n",
       "       [0.91461972],\n",
       "       [0.94795304],\n",
       "       [0.9608186 ],\n",
       "       [0.93684201],\n",
       "       [0.92982453],\n",
       "       [0.88596488],\n",
       "       [0.88947351],\n",
       "       [0.9526315 ],\n",
       "       [0.968421  ],\n",
       "       [0.95146189],\n",
       "       [0.97134493],\n",
       "       [0.99473683],\n",
       "       [1.        ],\n",
       "       [0.97076024],\n",
       "       [0.94035086],\n",
       "       [0.85672512],\n",
       "       [0.88830412],\n",
       "       [0.89122805],\n",
       "       [0.88537996],\n",
       "       [0.84502917],\n",
       "       [0.85906436],\n",
       "       [0.86842107],\n",
       "       [0.87309932],\n",
       "       [0.871345  ],\n",
       "       [0.87426893],\n",
       "       [0.86959046]])"
      ]
     },
     "execution_count": 28,
     "metadata": {},
     "output_type": "execute_result"
    }
   ],
   "source": [
    "input_data = scaler.fit_transform(final_df)\n",
    "input_data"
   ]
  },
  {
   "cell_type": "code",
   "execution_count": 29,
   "metadata": {
    "colab": {
     "base_uri": "https://localhost:8080/"
    },
    "id": "Kb-9IHVw2Olt",
    "outputId": "478c9bf8-e565-4996-fa10-810888ad11fe"
   },
   "outputs": [
    {
     "data": {
      "text/plain": [
       "(352, 1)"
      ]
     },
     "execution_count": 29,
     "metadata": {},
     "output_type": "execute_result"
    }
   ],
   "source": [
    "input_data.shape"
   ]
  },
  {
   "cell_type": "code",
   "execution_count": 30,
   "metadata": {
    "id": "CUq3nw1oavmz"
   },
   "outputs": [],
   "source": [
    "x_test = []\n",
    "y_test = []\n",
    "\n",
    "for i in range(100, input_data.shape[0]):\n",
    "  x_test.append(input_data[i-100: i])\n",
    "  y_test.append(input_data[i, 0])"
   ]
  },
  {
   "cell_type": "code",
   "execution_count": 31,
   "metadata": {
    "colab": {
     "base_uri": "https://localhost:8080/"
    },
    "id": "Nj7LHtK6a8Ih",
    "outputId": "864b741d-727b-4ec6-c2d8-5095a4f35e5b"
   },
   "outputs": [
    {
     "name": "stdout",
     "output_type": "stream",
     "text": [
      "(252, 100, 1)\n",
      "(252,)\n"
     ]
    }
   ],
   "source": [
    "x_test , y_test = np.array(x_test), np.array(y_test)\n",
    "print(x_test.shape)\n",
    "print(y_test.shape)"
   ]
  },
  {
   "cell_type": "code",
   "execution_count": 32,
   "metadata": {
    "colab": {
     "base_uri": "https://localhost:8080/"
    },
    "id": "8W6BmOX8a8bl",
    "outputId": "ecfa75d8-19ea-4f5e-e20a-85eadf8c67a8"
   },
   "outputs": [
    {
     "name": "stdout",
     "output_type": "stream",
     "text": [
      "\u001b[1m8/8\u001b[0m \u001b[32m━━━━━━━━━━━━━━━━━━━━\u001b[0m\u001b[37m\u001b[0m \u001b[1m3s\u001b[0m 213ms/step\n"
     ]
    }
   ],
   "source": [
    "#Making Predictions\n",
    "\n",
    "y_predicted = model.predict(x_test)"
   ]
  },
  {
   "cell_type": "code",
   "execution_count": 33,
   "metadata": {
    "colab": {
     "base_uri": "https://localhost:8080/"
    },
    "id": "DPNNYJTthOQE",
    "outputId": "076d733a-93c3-4497-d652-4998bcfc38eb"
   },
   "outputs": [
    {
     "data": {
      "text/plain": [
       "(252, 1)"
      ]
     },
     "execution_count": 33,
     "metadata": {},
     "output_type": "execute_result"
    }
   ],
   "source": [
    "y_predicted.shape"
   ]
  },
  {
   "cell_type": "code",
   "execution_count": 34,
   "metadata": {
    "colab": {
     "base_uri": "https://localhost:8080/"
    },
    "id": "DwmkmGrla8uO",
    "outputId": "d90aecba-74b0-4cae-cc5c-e77be6ba377d"
   },
   "outputs": [
    {
     "data": {
      "text/plain": [
       "array([0.        , 0.0391814 , 0.04678357, 0.0549709 , 0.06257307,\n",
       "       0.07777787, 0.07368433, 0.09532169, 0.10760233, 0.11871359,\n",
       "       0.1362574 , 0.14795335, 0.12456145, 0.1280703 , 0.13567248,\n",
       "       0.11578943, 0.11695905, 0.12397653, 0.15672514, 0.1368421 ,\n",
       "       0.14269018, 0.17719311, 0.21111112, 0.21520467, 0.20584795,\n",
       "       0.18479529, 0.20000009, 0.22163745, 0.22456138, 0.22456138,\n",
       "       0.2415205 , 0.20116971, 0.20643287, 0.22280707, 0.21052642,\n",
       "       0.19883047, 0.17485388, 0.17485388, 0.20760227, 0.21169582,\n",
       "       0.18538021, 0.21111112, 0.24853798, 0.23976618, 0.24444443,\n",
       "       0.27017534, 0.28070167, 0.27543851, 0.27192988, 0.28479522,\n",
       "       0.29239762, 0.26374278, 0.27836266, 0.29766079, 0.32807017,\n",
       "       0.33567257, 0.33391803, 0.34093573, 0.354386  , 0.3304094 ,\n",
       "       0.3070175 , 0.32573093, 0.3467836 , 0.36725156, 0.37192981,\n",
       "       0.39649133, 0.39941526, 0.40643274, 0.36432741, 0.38187145,\n",
       "       0.35964916, 0.38011691, 0.41111121, 0.40818705, 0.41461984,\n",
       "       0.43333327, 0.40701744, 0.41812869, 0.43274857, 0.42456147,\n",
       "       0.41345022, 0.40877197, 0.44736845, 0.42222224, 0.42339185,\n",
       "       0.45555555, 0.4116959 , 0.36666664, 0.37134511, 0.36081878,\n",
       "       0.38947362, 0.38654969, 0.39181286, 0.38947362, 0.36140348,\n",
       "       0.354386  , 0.3309941 , 0.35321638, 0.3304094 , 0.35614031,\n",
       "       0.37953221, 0.36842096, 0.39707602, 0.37660828, 0.35730993,\n",
       "       0.3625731 , 0.40526312, 0.39532171, 0.35380108, 0.38596499,\n",
       "       0.42690048, 0.39590641, 0.4356725 , 0.46023379, 0.49181279,\n",
       "       0.46374265, 0.46491226, 0.48245608, 0.47777783, 0.48947356,\n",
       "       0.47660821, 0.47309936, 0.43450288, 0.43040933, 0.44736845,\n",
       "       0.42105262, 0.45497085, 0.43684212, 0.4438596 , 0.4274854 ,\n",
       "       0.41520476, 0.41520476, 0.41637415, 0.46140341, 0.41578945,\n",
       "       0.46140341, 0.46491226, 0.43918135, 0.451462  , 0.46608188,\n",
       "       0.46959073, 0.4438596 , 0.451462  , 0.4356725 , 0.41637415,\n",
       "       0.40643274, 0.36959058, 0.32748547, 0.34502928, 0.37953221,\n",
       "       0.36432741, 0.37076019, 0.39590641, 0.42631579, 0.42397655,\n",
       "       0.4356725 , 0.44093567, 0.42573109, 0.45321631, 0.44152036,\n",
       "       0.4754386 , 0.47660821, 0.48654962, 0.49824557, 0.49999989,\n",
       "       0.49941519, 0.51052622, 0.50292404, 0.50175443, 0.52339179,\n",
       "       0.548538  , 0.56900575, 0.5883041 , 0.61111107, 0.6538011 ,\n",
       "       0.64035084, 0.64444438, 0.62690057, 0.64795324, 0.64035084,\n",
       "       0.69766074, 0.69999998, 0.72923974, 0.71637417, 0.73099405,\n",
       "       0.63567237, 0.677193  , 0.72222226, 0.74853787, 0.7748537 ,\n",
       "       0.79122812, 0.76081874, 0.77543862, 0.7672513 , 0.78070178,\n",
       "       0.74912279, 0.75555557, 0.75964912, 0.76900583, 0.77953217,\n",
       "       0.81754372, 0.7906432 , 0.74385962, 0.74444432, 0.77953217,\n",
       "       0.82573082, 0.74678355, 0.7824561 , 0.77836255, 0.77777763,\n",
       "       0.80175423, 0.79239751, 0.82397651, 0.84912272, 0.86900577,\n",
       "       0.84970764, 0.89649122, 0.90701755, 0.85263157, 0.8637426 ,\n",
       "       0.87660817, 0.8479531 , 0.89824553, 0.91695896, 0.93508769,\n",
       "       0.95204681, 0.91461972, 0.94795304, 0.9608186 , 0.93684201,\n",
       "       0.92982453, 0.88596488, 0.88947351, 0.9526315 , 0.968421  ,\n",
       "       0.95146189, 0.97134493, 0.99473683, 1.        , 0.97076024,\n",
       "       0.94035086, 0.85672512, 0.88830412, 0.89122805, 0.88537996,\n",
       "       0.84502917, 0.85906436, 0.86842107, 0.87309932, 0.871345  ,\n",
       "       0.87426893, 0.86959046])"
      ]
     },
     "execution_count": 34,
     "metadata": {},
     "output_type": "execute_result"
    }
   ],
   "source": [
    "y_test"
   ]
  },
  {
   "cell_type": "code",
   "execution_count": 35,
   "metadata": {
    "colab": {
     "base_uri": "https://localhost:8080/"
    },
    "id": "BPGDIuZ2a859",
    "outputId": "bb19769d-8663-4850-eeec-7d6d36143726"
   },
   "outputs": [
    {
     "data": {
      "text/plain": [
       "array([[0.16723327],\n",
       "       [0.16552627],\n",
       "       [0.16409683],\n",
       "       [0.16299665],\n",
       "       [0.16227964],\n",
       "       [0.16200426],\n",
       "       [0.16217127],\n",
       "       [0.16253644],\n",
       "       [0.16306765],\n",
       "       [0.16378781],\n",
       "       [0.1647149 ],\n",
       "       [0.16586517],\n",
       "       [0.16723952],\n",
       "       [0.16877843],\n",
       "       [0.17044322],\n",
       "       [0.17222679],\n",
       "       [0.17410186],\n",
       "       [0.17602615],\n",
       "       [0.17801152],\n",
       "       [0.18003806],\n",
       "       [0.18209873],\n",
       "       [0.18418925],\n",
       "       [0.18632951],\n",
       "       [0.1885857 ],\n",
       "       [0.19100223],\n",
       "       [0.19364487],\n",
       "       [0.19669792],\n",
       "       [0.20022194],\n",
       "       [0.20412028],\n",
       "       [0.20826983],\n",
       "       [0.21275535],\n",
       "       [0.21763636],\n",
       "       [0.22282192],\n",
       "       [0.22823584],\n",
       "       [0.23398072],\n",
       "       [0.23982862],\n",
       "       [0.24543801],\n",
       "       [0.25055182],\n",
       "       [0.25487134],\n",
       "       [0.2583253 ],\n",
       "       [0.26097134],\n",
       "       [0.26285872],\n",
       "       [0.26411963],\n",
       "       [0.26501566],\n",
       "       [0.26580414],\n",
       "       [0.2667163 ],\n",
       "       [0.26798707],\n",
       "       [0.26978427],\n",
       "       [0.27212808],\n",
       "       [0.2749473 ],\n",
       "       [0.2781481 ],\n",
       "       [0.28159806],\n",
       "       [0.28516537],\n",
       "       [0.28872374],\n",
       "       [0.29223368],\n",
       "       [0.29570735],\n",
       "       [0.29930326],\n",
       "       [0.3031909 ],\n",
       "       [0.3074388 ],\n",
       "       [0.3120634 ],\n",
       "       [0.31693745],\n",
       "       [0.32183692],\n",
       "       [0.32659137],\n",
       "       [0.33125973],\n",
       "       [0.33588445],\n",
       "       [0.34051293],\n",
       "       [0.34538087],\n",
       "       [0.35067573],\n",
       "       [0.3565544 ],\n",
       "       [0.3627767 ],\n",
       "       [0.36907762],\n",
       "       [0.37503207],\n",
       "       [0.38040298],\n",
       "       [0.38524854],\n",
       "       [0.38971734],\n",
       "       [0.39399698],\n",
       "       [0.39833894],\n",
       "       [0.4027732 ],\n",
       "       [0.4072876 ],\n",
       "       [0.4119146 ],\n",
       "       [0.4166005 ],\n",
       "       [0.42115784],\n",
       "       [0.42533696],\n",
       "       [0.4292066 ],\n",
       "       [0.4327408 ],\n",
       "       [0.4358914 ],\n",
       "       [0.4388101 ],\n",
       "       [0.4414064 ],\n",
       "       [0.4431427 ],\n",
       "       [0.44358024],\n",
       "       [0.44243237],\n",
       "       [0.4398662 ],\n",
       "       [0.43623877],\n",
       "       [0.43202502],\n",
       "       [0.4276803 ],\n",
       "       [0.42339283],\n",
       "       [0.4191959 ],\n",
       "       [0.41495383],\n",
       "       [0.41068393],\n",
       "       [0.40637082],\n",
       "       [0.402151  ],\n",
       "       [0.39832583],\n",
       "       [0.39514422],\n",
       "       [0.39295474],\n",
       "       [0.3919005 ],\n",
       "       [0.39183962],\n",
       "       [0.39252663],\n",
       "       [0.39396268],\n",
       "       [0.39611936],\n",
       "       [0.39860505],\n",
       "       [0.40118438],\n",
       "       [0.403958  ],\n",
       "       [0.4068969 ],\n",
       "       [0.41018954],\n",
       "       [0.41420227],\n",
       "       [0.4193157 ],\n",
       "       [0.42552438],\n",
       "       [0.43262005],\n",
       "       [0.4403494 ],\n",
       "       [0.44846654],\n",
       "       [0.45681572],\n",
       "       [0.46518987],\n",
       "       [0.47333497],\n",
       "       [0.48072642],\n",
       "       [0.4868887 ],\n",
       "       [0.49162042],\n",
       "       [0.49468607],\n",
       "       [0.49622238],\n",
       "       [0.49637288],\n",
       "       [0.4953537 ],\n",
       "       [0.49331725],\n",
       "       [0.49030066],\n",
       "       [0.48619288],\n",
       "       [0.4810024 ],\n",
       "       [0.4753706 ],\n",
       "       [0.4696223 ],\n",
       "       [0.4643765 ],\n",
       "       [0.46025968],\n",
       "       [0.45750797],\n",
       "       [0.45619154],\n",
       "       [0.45631266],\n",
       "       [0.4577589 ],\n",
       "       [0.4601345 ],\n",
       "       [0.46303117],\n",
       "       [0.46595514],\n",
       "       [0.46830833],\n",
       "       [0.46950132],\n",
       "       [0.46866637],\n",
       "       [0.46509165],\n",
       "       [0.45884186],\n",
       "       [0.4495424 ],\n",
       "       [0.43701237],\n",
       "       [0.4217196 ],\n",
       "       [0.40509546],\n",
       "       [0.38992918],\n",
       "       [0.37889135],\n",
       "       [0.3732975 ],\n",
       "       [0.37271678],\n",
       "       [0.37640017],\n",
       "       [0.38357788],\n",
       "       [0.39341626],\n",
       "       [0.4048972 ],\n",
       "       [0.4172082 ],\n",
       "       [0.42979848],\n",
       "       [0.44233638],\n",
       "       [0.4546278 ],\n",
       "       [0.46653348],\n",
       "       [0.47799766],\n",
       "       [0.48901308],\n",
       "       [0.4995067 ],\n",
       "       [0.5094666 ],\n",
       "       [0.51898146],\n",
       "       [0.5282132 ],\n",
       "       [0.53735435],\n",
       "       [0.54660726],\n",
       "       [0.55622375],\n",
       "       [0.56630814],\n",
       "       [0.57684964],\n",
       "       [0.58767503],\n",
       "       [0.59860784],\n",
       "       [0.6094167 ],\n",
       "       [0.62005496],\n",
       "       [0.63052934],\n",
       "       [0.64091676],\n",
       "       [0.6512381 ],\n",
       "       [0.66149944],\n",
       "       [0.6712512 ],\n",
       "       [0.6801294 ],\n",
       "       [0.6880534 ],\n",
       "       [0.6951728 ],\n",
       "       [0.7017752 ],\n",
       "       [0.70818377],\n",
       "       [0.71455586],\n",
       "       [0.7209911 ],\n",
       "       [0.7274713 ],\n",
       "       [0.73396313],\n",
       "       [0.74025315],\n",
       "       [0.7461197 ],\n",
       "       [0.7513888 ],\n",
       "       [0.75598156],\n",
       "       [0.75992495],\n",
       "       [0.7634432 ],\n",
       "       [0.76667595],\n",
       "       [0.7695048 ],\n",
       "       [0.7717547 ],\n",
       "       [0.7734309 ],\n",
       "       [0.77479374],\n",
       "       [0.7758243 ],\n",
       "       [0.7765869 ],\n",
       "       [0.77714425],\n",
       "       [0.77755266],\n",
       "       [0.77796334],\n",
       "       [0.7784843 ],\n",
       "       [0.7793079 ],\n",
       "       [0.7806726 ],\n",
       "       [0.7827908 ],\n",
       "       [0.7857397 ],\n",
       "       [0.7895876 ],\n",
       "       [0.79434574],\n",
       "       [0.7997959 ],\n",
       "       [0.80568403],\n",
       "       [0.8117967 ],\n",
       "       [0.81780225],\n",
       "       [0.82361144],\n",
       "       [0.829259  ],\n",
       "       [0.8348388 ],\n",
       "       [0.84046113],\n",
       "       [0.8460857 ],\n",
       "       [0.85172355],\n",
       "       [0.85739845],\n",
       "       [0.86303115],\n",
       "       [0.8684814 ],\n",
       "       [0.8734023 ],\n",
       "       [0.8774772 ],\n",
       "       [0.8807829 ],\n",
       "       [0.8835554 ],\n",
       "       [0.8859931 ],\n",
       "       [0.8883101 ],\n",
       "       [0.8907169 ],\n",
       "       [0.89336985],\n",
       "       [0.8962684 ],\n",
       "       [0.8992255 ],\n",
       "       [0.9016184 ],\n",
       "       [0.90301013],\n",
       "       [0.9031715 ],\n",
       "       [0.9020329 ],\n",
       "       [0.89950424],\n",
       "       [0.8956574 ],\n",
       "       [0.8907231 ],\n",
       "       [0.88503605],\n",
       "       [0.878967  ],\n",
       "       [0.87289685]], dtype=float32)"
      ]
     },
     "execution_count": 35,
     "metadata": {},
     "output_type": "execute_result"
    }
   ],
   "source": [
    "y_predicted"
   ]
  },
  {
   "cell_type": "code",
   "execution_count": 36,
   "metadata": {
    "colab": {
     "base_uri": "https://localhost:8080/"
    },
    "id": "dfEfkS-vcC5t",
    "outputId": "abdac96f-ff32-4cdd-b9f9-b5080eb2c399"
   },
   "outputs": [
    {
     "data": {
      "text/plain": [
       "array([0.05847952])"
      ]
     },
     "execution_count": 36,
     "metadata": {},
     "output_type": "execute_result"
    }
   ],
   "source": [
    "scaler.scale_"
   ]
  },
  {
   "cell_type": "code",
   "execution_count": 37,
   "metadata": {
    "id": "XFct3j85cDKy"
   },
   "outputs": [],
   "source": [
    "scale_factor = 1/0.05953089\n",
    "y_predicted = y_predicted * scale_factor\n",
    "y_test = y_test * scale_factor\n"
   ]
  },
  {
   "cell_type": "code",
   "execution_count": null,
   "metadata": {
    "id": "hZw7zOJJf8UY"
   },
   "outputs": [],
   "source": []
  },
  {
   "cell_type": "code",
   "execution_count": 38,
   "metadata": {
    "colab": {
     "base_uri": "https://localhost:8080/",
     "height": 542
    },
    "id": "sM4IGCGecDY3",
    "outputId": "ec0037f5-e471-40cf-eba2-05ced237a263"
   },
   "outputs": [
    {
     "data": {
      "image/png": "[encoded data removed]",
      "text/plain": [
       "<Figure size 1200x600 with 1 Axes>"
      ]
     },
     "metadata": {},
     "output_type": "display_data"
    }
   ],
   "source": [
    "plt.figure(figsize=(12,6))\n",
    "plt.plot(y_test, 'b', label = 'Original price')\n",
    "plt.plot(y_predicted, 'r', label = 'Predicted Price')\n",
    "plt.xlabel('Time')\n",
    "plt.ylabel('Price')\n",
    "plt.legend()\n",
    "plt.show()"
   ]
  },
  {
   "cell_type": "code",
   "execution_count": 39,
   "metadata": {
    "colab": {
     "base_uri": "https://localhost:8080/",
     "height": 1000
    },
    "id": "pHi7YE7TcDlp",
    "outputId": "3416dcd6-f5d4-4903-f242-b63e74a16962"
   },
   "outputs": [
    {
     "name": "stdout",
     "output_type": "stream",
     "text": [
      "\u001b[1m1/1\u001b[0m \u001b[32m━━━━━━━━━━━━━━━━━━━━\u001b[0m\u001b[37m\u001b[0m \u001b[1m0s\u001b[0m 98ms/step\n",
      "\u001b[1m1/1\u001b[0m \u001b[32m━━━━━━━━━━━━━━━━━━━━\u001b[0m\u001b[37m\u001b[0m \u001b[1m0s\u001b[0m 51ms/step\n",
      "\u001b[1m1/1\u001b[0m \u001b[32m━━━━━━━━━━━━━━━━━━━━\u001b[0m\u001b[37m\u001b[0m \u001b[1m0s\u001b[0m 54ms/step\n",
      "\u001b[1m1/1\u001b[0m \u001b[32m━━━━━━━━━━━━━━━━━━━━\u001b[0m\u001b[37m\u001b[0m \u001b[1m0s\u001b[0m 50ms/step\n",
      "\u001b[1m1/1\u001b[0m \u001b[32m━━━━━━━━━━━━━━━━━━━━\u001b[0m\u001b[37m\u001b[0m \u001b[1m0s\u001b[0m 47ms/step\n",
      "\u001b[1m1/1\u001b[0m \u001b[32m━━━━━━━━━━━━━━━━━━━━\u001b[0m\u001b[37m\u001b[0m \u001b[1m0s\u001b[0m 47ms/step\n",
      "\u001b[1m1/1\u001b[0m \u001b[32m━━━━━━━━━━━━━━━━━━━━\u001b[0m\u001b[37m\u001b[0m \u001b[1m0s\u001b[0m 49ms/step\n",
      "\u001b[1m1/1\u001b[0m \u001b[32m━━━━━━━━━━━━━━━━━━━━\u001b[0m\u001b[37m\u001b[0m \u001b[1m0s\u001b[0m 49ms/step\n",
      "\u001b[1m1/1\u001b[0m \u001b[32m━━━━━━━━━━━━━━━━━━━━\u001b[0m\u001b[37m\u001b[0m \u001b[1m0s\u001b[0m 48ms/step\n",
      "\u001b[1m1/1\u001b[0m \u001b[32m━━━━━━━━━━━━━━━━━━━━\u001b[0m\u001b[37m\u001b[0m \u001b[1m0s\u001b[0m 49ms/step\n",
      "\u001b[1m1/1\u001b[0m \u001b[32m━━━━━━━━━━━━━━━━━━━━\u001b[0m\u001b[37m\u001b[0m \u001b[1m0s\u001b[0m 50ms/step\n",
      "\u001b[1m1/1\u001b[0m \u001b[32m━━━━━━━━━━━━━━━━━━━━\u001b[0m\u001b[37m\u001b[0m \u001b[1m0s\u001b[0m 48ms/step\n",
      "\u001b[1m1/1\u001b[0m \u001b[32m━━━━━━━━━━━━━━━━━━━━\u001b[0m\u001b[37m\u001b[0m \u001b[1m0s\u001b[0m 48ms/step\n",
      "\u001b[1m1/1\u001b[0m \u001b[32m━━━━━━━━━━━━━━━━━━━━\u001b[0m\u001b[37m\u001b[0m \u001b[1m0s\u001b[0m 50ms/step\n",
      "\u001b[1m1/1\u001b[0m \u001b[32m━━━━━━━━━━━━━━━━━━━━\u001b[0m\u001b[37m\u001b[0m \u001b[1m0s\u001b[0m 48ms/step\n",
      "\u001b[1m1/1\u001b[0m \u001b[32m━━━━━━━━━━━━━━━━━━━━\u001b[0m\u001b[37m\u001b[0m \u001b[1m0s\u001b[0m 51ms/step\n",
      "\u001b[1m1/1\u001b[0m \u001b[32m━━━━━━━━━━━━━━━━━━━━\u001b[0m\u001b[37m\u001b[0m \u001b[1m0s\u001b[0m 52ms/step\n",
      "\u001b[1m1/1\u001b[0m \u001b[32m━━━━━━━━━━━━━━━━━━━━\u001b[0m\u001b[37m\u001b[0m \u001b[1m0s\u001b[0m 50ms/step\n",
      "\u001b[1m1/1\u001b[0m \u001b[32m━━━━━━━━━━━━━━━━━━━━\u001b[0m\u001b[37m\u001b[0m \u001b[1m0s\u001b[0m 52ms/step\n",
      "\u001b[1m1/1\u001b[0m \u001b[32m━━━━━━━━━━━━━━━━━━━━\u001b[0m\u001b[37m\u001b[0m \u001b[1m0s\u001b[0m 62ms/step\n",
      "\u001b[1m1/1\u001b[0m \u001b[32m━━━━━━━━━━━━━━━━━━━━\u001b[0m\u001b[37m\u001b[0m \u001b[1m0s\u001b[0m 72ms/step\n",
      "\u001b[1m1/1\u001b[0m \u001b[32m━━━━━━━━━━━━━━━━━━━━\u001b[0m\u001b[37m\u001b[0m \u001b[1m0s\u001b[0m 60ms/step\n",
      "\u001b[1m1/1\u001b[0m \u001b[32m━━━━━━━━━━━━━━━━━━━━\u001b[0m\u001b[37m\u001b[0m \u001b[1m0s\u001b[0m 58ms/step\n",
      "\u001b[1m1/1\u001b[0m \u001b[32m━━━━━━━━━━━━━━━━━━━━\u001b[0m\u001b[37m\u001b[0m \u001b[1m0s\u001b[0m 48ms/step\n",
      "\u001b[1m1/1\u001b[0m \u001b[32m━━━━━━━━━━━━━━━━━━━━\u001b[0m\u001b[37m\u001b[0m \u001b[1m0s\u001b[0m 47ms/step\n",
      "\u001b[1m1/1\u001b[0m \u001b[32m━━━━━━━━━━━━━━━━━━━━\u001b[0m\u001b[37m\u001b[0m \u001b[1m0s\u001b[0m 51ms/step\n",
      "\u001b[1m1/1\u001b[0m \u001b[32m━━━━━━━━━━━━━━━━━━━━\u001b[0m\u001b[37m\u001b[0m \u001b[1m0s\u001b[0m 47ms/step\n",
      "\u001b[1m1/1\u001b[0m \u001b[32m━━━━━━━━━━━━━━━━━━━━\u001b[0m\u001b[37m\u001b[0m \u001b[1m0s\u001b[0m 55ms/step\n",
      "\u001b[1m1/1\u001b[0m \u001b[32m━━━━━━━━━━━━━━━━━━━━\u001b[0m\u001b[37m\u001b[0m \u001b[1m0s\u001b[0m 56ms/step\n",
      "\u001b[1m1/1\u001b[0m \u001b[32m━━━━━━━━━━━━━━━━━━━━\u001b[0m\u001b[37m\u001b[0m \u001b[1m0s\u001b[0m 54ms/step\n",
      "Mean Squared Error (MSE): 0.003011349667962331\n",
      "Root Mean Squared Error (RMSE): 0.05487576576196756\n",
      "Mean Absolute Percentage Error (MAPE): inf%\n"
     ]
    },
    {
     "name": "stderr",
     "output_type": "stream",
     "text": [
      "C:\\Users\\sunde\\AppData\\Local\\Temp\\ipykernel_12996\\654591802.py:29: RuntimeWarning: divide by zero encountered in divide\n",
      "  mape = np.mean(np.abs((y_test_original - y_predicted_original) / y_test_original)) * 100\n"
     ]
    },
    {
     "data": {
      "image/png": "[encoded data removed]",
      "text/plain": [
       "<Figure size 1200x600 with 1 Axes>"
      ]
     },
     "metadata": {},
     "output_type": "display_data"
    }
   ],
   "source": [
    "# Future Prediction\n",
    "future_days = 30  # Number of days to predict into the future\n",
    "x_input = input_data[-100:]  # Use the last 100 days as input for predicting the next 'future_days'\n",
    "\n",
    "future_predictions = []  # List to store future predictions\n",
    "\n",
    "for i in range(future_days):\n",
    "    x_input = x_input.reshape((1, 100, 1))  # Reshape input for the model\n",
    "    y_pred = model.predict(x_input)  # Predict next day's price\n",
    "    future_predictions.append(y_pred[0, 0])  # Append the prediction to the list\n",
    "    x_input = np.append(x_input[:, 1:, :], y_pred.reshape(1, 1, 1), axis=1)  # Update input data by shifting one step forward\n",
    "\n",
    "# Model Accuracy\n",
    "from sklearn.metrics import mean_squared_error\n",
    "\n",
    "# Inverse transform to get the original scale\n",
    "y_test_original = y_test / scale_factor\n",
    "y_predicted_original = y_predicted / scale_factor\n",
    "\n",
    "# Calculate Mean Squared Error\n",
    "mse = mean_squared_error(y_test_original, y_predicted_original)\n",
    "print('Mean Squared Error (MSE):', mse)\n",
    "\n",
    "# Calculate Root Mean Squared Error (RMSE)\n",
    "rmse = np.sqrt(mse)\n",
    "print('Root Mean Squared Error (RMSE):', rmse)\n",
    "\n",
    "# Calculate Mean Absolute Percentage Error (MAPE)\n",
    "mape = np.mean(np.abs((y_test_original - y_predicted_original) / y_test_original)) * 100\n",
    "print('Mean Absolute Percentage Error (MAPE): {:.2f}%'.format(mape))\n",
    "\n",
    "# Plotting Future Predictions\n",
    "plt.figure(figsize=(12, 6))\n",
    "plt.plot(y_test_original, 'b', label='Original price')\n",
    "plt.plot(range(len(y_test_original), len(y_test_original) + future_days), future_predictions, 'r', label='Future Predictions')\n",
    "plt.xlabel('Time')\n",
    "plt.ylabel('Price')\n",
    "plt.legend()\n",
    "plt.show()\n"
   ]
  },
  {
   "cell_type": "code",
   "execution_count": 42,
   "metadata": {},
   "outputs": [
    {
     "name": "stdout",
     "output_type": "stream",
     "text": [
      "\u001b[1m1/1\u001b[0m \u001b[32m━━━━━━━━━━━━━━━━━━━━\u001b[0m\u001b[37m\u001b[0m \u001b[1m0s\u001b[0m 67ms/step\n",
      "\u001b[1m1/1\u001b[0m \u001b[32m━━━━━━━━━━━━━━━━━━━━\u001b[0m\u001b[37m\u001b[0m \u001b[1m0s\u001b[0m 62ms/step\n",
      "\u001b[1m1/1\u001b[0m \u001b[32m━━━━━━━━━━━━━━━━━━━━\u001b[0m\u001b[37m\u001b[0m \u001b[1m0s\u001b[0m 56ms/step\n",
      "\u001b[1m1/1\u001b[0m \u001b[32m━━━━━━━━━━━━━━━━━━━━\u001b[0m\u001b[37m\u001b[0m \u001b[1m0s\u001b[0m 52ms/step\n",
      "\u001b[1m1/1\u001b[0m \u001b[32m━━━━━━━━━━━━━━━━━━━━\u001b[0m\u001b[37m\u001b[0m \u001b[1m0s\u001b[0m 53ms/step\n",
      "\u001b[1m1/1\u001b[0m \u001b[32m━━━━━━━━━━━━━━━━━━━━\u001b[0m\u001b[37m\u001b[0m \u001b[1m0s\u001b[0m 51ms/step\n",
      "\u001b[1m1/1\u001b[0m \u001b[32m━━━━━━━━━━━━━━━━━━━━\u001b[0m\u001b[37m\u001b[0m \u001b[1m0s\u001b[0m 55ms/step\n",
      "\u001b[1m1/1\u001b[0m \u001b[32m━━━━━━━━━━━━━━━━━━━━\u001b[0m\u001b[37m\u001b[0m \u001b[1m0s\u001b[0m 53ms/step\n",
      "\u001b[1m1/1\u001b[0m \u001b[32m━━━━━━━━━━━━━━━━━━━━\u001b[0m\u001b[37m\u001b[0m \u001b[1m0s\u001b[0m 51ms/step\n",
      "\u001b[1m1/1\u001b[0m \u001b[32m━━━━━━━━━━━━━━━━━━━━\u001b[0m\u001b[37m\u001b[0m \u001b[1m0s\u001b[0m 50ms/step\n",
      "\u001b[1m1/1\u001b[0m \u001b[32m━━━━━━━━━━━━━━━━━━━━\u001b[0m\u001b[37m\u001b[0m \u001b[1m0s\u001b[0m 48ms/step\n",
      "\u001b[1m1/1\u001b[0m \u001b[32m━━━━━━━━━━━━━━━━━━━━\u001b[0m\u001b[37m\u001b[0m \u001b[1m0s\u001b[0m 51ms/step\n",
      "\u001b[1m1/1\u001b[0m \u001b[32m━━━━━━━━━━━━━━━━━━━━\u001b[0m\u001b[37m\u001b[0m \u001b[1m0s\u001b[0m 54ms/step\n",
      "\u001b[1m1/1\u001b[0m \u001b[32m━━━━━━━━━━━━━━━━━━━━\u001b[0m\u001b[37m\u001b[0m \u001b[1m0s\u001b[0m 64ms/step\n",
      "\u001b[1m1/1\u001b[0m \u001b[32m━━━━━━━━━━━━━━━━━━━━\u001b[0m\u001b[37m\u001b[0m \u001b[1m0s\u001b[0m 53ms/step\n",
      "\u001b[1m1/1\u001b[0m \u001b[32m━━━━━━━━━━━━━━━━━━━━\u001b[0m\u001b[37m\u001b[0m \u001b[1m0s\u001b[0m 52ms/step\n",
      "\u001b[1m1/1\u001b[0m \u001b[32m━━━━━━━━━━━━━━━━━━━━\u001b[0m\u001b[37m\u001b[0m \u001b[1m0s\u001b[0m 61ms/step\n",
      "\u001b[1m1/1\u001b[0m \u001b[32m━━━━━━━━━━━━━━━━━━━━\u001b[0m\u001b[37m\u001b[0m \u001b[1m0s\u001b[0m 52ms/step\n",
      "\u001b[1m1/1\u001b[0m \u001b[32m━━━━━━━━━━━━━━━━━━━━\u001b[0m\u001b[37m\u001b[0m \u001b[1m0s\u001b[0m 50ms/step\n",
      "\u001b[1m1/1\u001b[0m \u001b[32m━━━━━━━━━━━━━━━━━━━━\u001b[0m\u001b[37m\u001b[0m \u001b[1m0s\u001b[0m 61ms/step\n",
      "\u001b[1m1/1\u001b[0m \u001b[32m━━━━━━━━━━━━━━━━━━━━\u001b[0m\u001b[37m\u001b[0m \u001b[1m0s\u001b[0m 67ms/step\n",
      "\u001b[1m1/1\u001b[0m \u001b[32m━━━━━━━━━━━━━━━━━━━━\u001b[0m\u001b[37m\u001b[0m \u001b[1m0s\u001b[0m 53ms/step\n",
      "\u001b[1m1/1\u001b[0m \u001b[32m━━━━━━━━━━━━━━━━━━━━\u001b[0m\u001b[37m\u001b[0m \u001b[1m0s\u001b[0m 50ms/step\n",
      "\u001b[1m1/1\u001b[0m \u001b[32m━━━━━━━━━━━━━━━━━━━━\u001b[0m\u001b[37m\u001b[0m \u001b[1m0s\u001b[0m 56ms/step\n",
      "\u001b[1m1/1\u001b[0m \u001b[32m━━━━━━━━━━━━━━━━━━━━\u001b[0m\u001b[37m\u001b[0m \u001b[1m0s\u001b[0m 53ms/step\n",
      "\u001b[1m1/1\u001b[0m \u001b[32m━━━━━━━━━━━━━━━━━━━━\u001b[0m\u001b[37m\u001b[0m \u001b[1m0s\u001b[0m 51ms/step\n",
      "\u001b[1m1/1\u001b[0m \u001b[32m━━━━━━━━━━━━━━━━━━━━\u001b[0m\u001b[37m\u001b[0m \u001b[1m0s\u001b[0m 54ms/step\n",
      "\u001b[1m1/1\u001b[0m \u001b[32m━━━━━━━━━━━━━━━━━━━━\u001b[0m\u001b[37m\u001b[0m \u001b[1m0s\u001b[0m 53ms/step\n",
      "\u001b[1m1/1\u001b[0m \u001b[32m━━━━━━━━━━━━━━━━━━━━\u001b[0m\u001b[37m\u001b[0m \u001b[1m0s\u001b[0m 55ms/step\n",
      "\u001b[1m1/1\u001b[0m \u001b[32m━━━━━━━━━━━━━━━━━━━━\u001b[0m\u001b[37m\u001b[0m \u001b[1m0s\u001b[0m 49ms/step\n",
      "Predictions for the next 30 days: [0.86714566, 0.8619516, 0.8574485, 0.8536735, 0.85058975, 0.8481089, 0.8461155, 0.8444874, 0.8431096, 0.84188354, 0.84073275, 0.8396029, 0.8384604, 0.83728844, 0.83608365, 0.8348514, 0.8336025, 0.8323492, 0.8311045, 0.8298798, 0.8286837, 0.82752234, 0.82639974, 0.8253171, 0.82427454, 0.8232708, 0.8223037, 0.8213711, 0.82047015, 0.8195988]\n",
      "Predictions for the next 30 days (in terms of price): [86.71456575393677, 86.19515895843506, 85.74485182762146, 85.367351770401, 85.05897521972656, 84.81088876724243, 84.61155295372009, 84.44874286651611, 84.31096076965332, 84.18835401535034, 84.0732753276825, 83.96028876304626, 83.8460385799408, 83.72884392738342, 83.60836505889893, 83.48513841629028, 83.36024880409241, 83.2349181175232, 83.11045169830322, 82.98798203468323, 82.86836743354797, 82.7522337436676, 82.63997435569763, 82.53170847892761, 82.42745399475098, 82.32707977294922, 82.23037123680115, 82.1371078491211, 82.04701542854309, 81.95987939834595]\n"
     ]
    }
   ],
   "source": [
    "import numpy as np\n",
    "\n",
    "future_days = 30  # Number of days to predict into the future\n",
    "x_input = input_data[-100:]  # Use the last 100 days as input for predicting the next 'future_days'\n",
    "\n",
    "future_predictions = []  # List to store future predictions\n",
    "\n",
    "for i in range(future_days):\n",
    "    x_input = x_input.reshape((1, 100, 1))  # Reshape input for the model\n",
    "    y_pred = model.predict(x_input)  # Predict next day's price\n",
    "    future_predictions.append(y_pred[0, 0])  # Append the prediction to the list\n",
    "    x_input = np.append(x_input[:, 1:, :], y_pred.reshape(1, 1, 1), axis=1)  # Update input data by shifting one step forward\n",
    "\n",
    "print(\"Predictions for the next 30 days:\", future_predictions)\n",
    "\n",
    "\n",
    "# Example scaling factor for demonstration\n",
    "scaling_factor = 100  # Assuming 1 unit of predicted value corresponds to $100\n",
    "\n",
    "# Convert model predictions to prices\n",
    "future_predictions_prices = [pred * scaling_factor for pred in future_predictions]\n",
    "\n",
    "print(\"Predictions for the next 30 days (in terms of price):\", future_predictions_prices)\n"
   ]
  }
 ],
 "metadata": {
  "colab": {
   "provenance": []
  },
  "kernelspec": {
   "display_name": "Python 3 (ipykernel)",
   "language": "python",
   "name": "python3"
  },
  "language_info": {
   "codemirror_mode": {
    "name": "ipython",
    "version": 3
   },
   "file_extension": ".py",
   "mimetype": "text/x-python",
   "name": "python",
   "nbconvert_exporter": "python",
   "pygments_lexer": "ipython3",
   "version": "3.11.5"
  }
 },
 "nbformat": 4,
 "nbformat_minor": 4
}
